{
 "cells": [
  {
   "cell_type": "code",
   "execution_count": 2,
   "metadata": {},
   "outputs": [],
   "source": [
    "import numpy as np\n",
    "import os\n",
    "import cv2 as cv\n",
    "import matplotlib.pyplot as plt\n",
    "import matplotlib.image as mpimg\n",
    "import tensorflow as tf\n",
    "from tensorflow.keras.layers import Flatten, Dense, Input, Conv2D, Masking\n",
    "from tensorflow.keras.layers import SimpleRNN, LSTM, RNN"
   ]
  },
  {
   "cell_type": "code",
   "execution_count": 3,
   "metadata": {},
   "outputs": [],
   "source": [
    "trainPathCV=\"D:\\Akanksha\\IIT Mandi\\Sem2\\Deep Learning\\Assignment 6\\CV\"\n",
    "TrCls=os.listdir(trainPathCV)\n",
    "TrData=[]\n",
    "TrLabel=[]\n",
    "TestData=[]\n",
    "TestLabel=[]\n",
    "label=-1\n",
    "for i in TrCls:\n",
    "    path1=trainPathCV+\"\\\\\"+i\n",
    "    data=os.listdir(path1)\n",
    "    #label=np.zeros(5)\n",
    "    label+=1\n",
    "    for j in data:\n",
    "        path2=path1+\"\\\\\"+j\n",
    "        samp=os.listdir(path2)\n",
    "        for m in samp:\n",
    "            path3=path2+\"\\\\\"+m\n",
    "            d1=[]\n",
    "            with open(path3) as f:\n",
    "                data=f.read()\n",
    "                data=data.splitlines()\n",
    "            for k in range(len(data)):\n",
    "                a=data[k].split(\" \")\n",
    "                a=a[:-1]\n",
    "                for l in range(len(a)):\n",
    "                    a[l]=float(a[l]) \n",
    "                a=np.array(a)\n",
    "                d1.append(a)\n",
    "                d=np.array(d1) \n",
    "            if j ==\"Train\":\n",
    "                TrData.append(d)\n",
    "                TrLabel.append(label)\n",
    "            if j==\"Test\":\n",
    "                TestData.append(d)\n",
    "                TestLabel.append(label)\n"
   ]
  },
  {
   "cell_type": "code",
   "execution_count": 4,
   "metadata": {},
   "outputs": [],
   "source": [
    "sizes=[]\n",
    "TrDataEmm=[]\n",
    "for i in range(len(TrData)):\n",
    "    sizes.append(TrData[i].shape)\n",
    "maxLen=max(sizes)\n",
    "for j in TrData:\n",
    "    a=np.zeros(maxLen)\n",
    "    for k in range(j.shape[0]):\n",
    "        for l in range(j.shape[1]):\n",
    "            a[k][l]+=j[k][l]\n",
    "    TrDataEmm.append(a)"
   ]
  },
  {
   "cell_type": "code",
   "execution_count": 5,
   "metadata": {},
   "outputs": [],
   "source": [
    "TestDataEmm=[]\n",
    "for j in TestData:\n",
    "    a=np.zeros(maxLen)\n",
    "    for k in range(j.shape[0]):\n",
    "        for l in range(j.shape[1]):\n",
    "            a[k][l]+=j[k][l]\n",
    "    TestDataEmm.append(a)"
   ]
  },
  {
   "cell_type": "code",
   "execution_count": 6,
   "metadata": {},
   "outputs": [],
   "source": [
    "TrDataEmm=np.array(TrDataEmm)\n",
    "TrLabel=np.array(TrLabel)\n",
    "TestDataEmm=np.array(TestDataEmm)\n",
    "TestLabel=np.array(TestLabel)"
   ]
  },
  {
   "cell_type": "code",
   "execution_count": 115,
   "metadata": {},
   "outputs": [
    {
     "data": {
      "text/plain": [
       "(1508, 78, 39)"
      ]
     },
     "execution_count": 115,
     "metadata": {},
     "output_type": "execute_result"
    }
   ],
   "source": [
    "TrDataEmm.shape"
   ]
  },
  {
   "cell_type": "code",
   "execution_count": 116,
   "metadata": {},
   "outputs": [
    {
     "data": {
      "text/plain": [
       "array([0, 0, 0, ..., 4, 4, 4])"
      ]
     },
     "execution_count": 116,
     "metadata": {},
     "output_type": "execute_result"
    }
   ],
   "source": [
    "TrLabel"
   ]
  },
  {
   "cell_type": "code",
   "execution_count": 94,
   "metadata": {},
   "outputs": [
    {
     "data": {
      "text/plain": [
       "array([[[-7.017944e+00,  3.343965e+00,  5.088749e-01, ...,\n",
       "         -2.498132e-01, -5.239335e-01,  1.023646e-04],\n",
       "        [-8.541749e+00,  3.370250e+00,  1.637278e+00, ...,\n",
       "         -6.831710e-01, -1.071238e+00,  3.093555e-03],\n",
       "        [-8.655733e+00,  3.673251e+00,  2.164013e+00, ...,\n",
       "         -8.713106e-01, -1.333650e+00,  5.719466e-03],\n",
       "        ...,\n",
       "        [ 0.000000e+00,  0.000000e+00,  0.000000e+00, ...,\n",
       "          0.000000e+00,  0.000000e+00,  0.000000e+00],\n",
       "        [ 0.000000e+00,  0.000000e+00,  0.000000e+00, ...,\n",
       "          0.000000e+00,  0.000000e+00,  0.000000e+00],\n",
       "        [ 0.000000e+00,  0.000000e+00,  0.000000e+00, ...,\n",
       "          0.000000e+00,  0.000000e+00,  0.000000e+00]],\n",
       "\n",
       "       [[-6.104867e+00,  6.638686e+00,  3.412268e+00, ...,\n",
       "         -2.496719e-01,  2.151365e-01, -4.299909e-03],\n",
       "        [-6.496320e+00,  9.044715e+00,  6.910264e+00, ...,\n",
       "         -9.633296e-01, -2.224530e-01, -4.861550e-03],\n",
       "        [-6.687428e+00,  1.037914e+01,  4.214595e+00, ...,\n",
       "         -1.336913e+00, -7.470190e-01,  6.843406e-03],\n",
       "        ...,\n",
       "        [ 0.000000e+00,  0.000000e+00,  0.000000e+00, ...,\n",
       "          0.000000e+00,  0.000000e+00,  0.000000e+00],\n",
       "        [ 0.000000e+00,  0.000000e+00,  0.000000e+00, ...,\n",
       "          0.000000e+00,  0.000000e+00,  0.000000e+00],\n",
       "        [ 0.000000e+00,  0.000000e+00,  0.000000e+00, ...,\n",
       "          0.000000e+00,  0.000000e+00,  0.000000e+00]],\n",
       "\n",
       "       [[-3.456113e+00,  3.274316e+00,  1.897018e+00, ...,\n",
       "         -3.644439e-01, -9.459855e-02, -3.925712e-03],\n",
       "        [-3.279508e+00,  6.254697e+00,  3.953984e+00, ...,\n",
       "         -5.603936e-01, -4.148375e-01, -8.203615e-03],\n",
       "        [-4.195280e+00,  8.963419e+00,  5.288773e+00, ...,\n",
       "         -4.021784e-01, -5.196903e-01, -1.081533e-02],\n",
       "        ...,\n",
       "        [ 0.000000e+00,  0.000000e+00,  0.000000e+00, ...,\n",
       "          0.000000e+00,  0.000000e+00,  0.000000e+00],\n",
       "        [ 0.000000e+00,  0.000000e+00,  0.000000e+00, ...,\n",
       "          0.000000e+00,  0.000000e+00,  0.000000e+00],\n",
       "        [ 0.000000e+00,  0.000000e+00,  0.000000e+00, ...,\n",
       "          0.000000e+00,  0.000000e+00,  0.000000e+00]],\n",
       "\n",
       "       ...,\n",
       "\n",
       "       [[-3.976473e+00, -7.729527e+00, -1.610510e+01, ...,\n",
       "          5.885907e-02, -1.396228e-01,  5.704798e-04],\n",
       "        [-1.952783e+00, -3.688063e+00, -1.297230e+01, ...,\n",
       "          6.561068e-01,  4.693585e-01,  4.936345e-04],\n",
       "        [-5.080350e-01, -3.921932e-01, -1.161550e+01, ...,\n",
       "          1.110280e+00,  1.396261e+00, -3.297083e-04],\n",
       "        ...,\n",
       "        [ 0.000000e+00,  0.000000e+00,  0.000000e+00, ...,\n",
       "          0.000000e+00,  0.000000e+00,  0.000000e+00],\n",
       "        [ 0.000000e+00,  0.000000e+00,  0.000000e+00, ...,\n",
       "          0.000000e+00,  0.000000e+00,  0.000000e+00],\n",
       "        [ 0.000000e+00,  0.000000e+00,  0.000000e+00, ...,\n",
       "          0.000000e+00,  0.000000e+00,  0.000000e+00]],\n",
       "\n",
       "       [[-1.087198e+00,  4.640686e+00, -4.653235e+00, ...,\n",
       "          6.003040e-01, -1.342047e-01,  1.743593e-03],\n",
       "        [-5.858859e-01,  5.574308e+00, -7.355427e+00, ...,\n",
       "          1.075445e+00,  1.771267e-01,  1.222547e-03],\n",
       "        [-1.130923e+00,  5.166846e+00, -9.728516e+00, ...,\n",
       "          8.961004e-01,  4.168564e-01,  8.619083e-03],\n",
       "        ...,\n",
       "        [ 0.000000e+00,  0.000000e+00,  0.000000e+00, ...,\n",
       "          0.000000e+00,  0.000000e+00,  0.000000e+00],\n",
       "        [ 0.000000e+00,  0.000000e+00,  0.000000e+00, ...,\n",
       "          0.000000e+00,  0.000000e+00,  0.000000e+00],\n",
       "        [ 0.000000e+00,  0.000000e+00,  0.000000e+00, ...,\n",
       "          0.000000e+00,  0.000000e+00,  0.000000e+00]],\n",
       "\n",
       "       [[-4.670890e+00,  8.663772e+00,  1.571970e+00, ...,\n",
       "          2.975647e-01, -9.216684e-02,  1.400179e-04],\n",
       "        [-4.610935e+00,  8.810092e+00,  2.322008e+00, ...,\n",
       "          8.710852e-01, -4.592055e-02,  1.979723e-03],\n",
       "        [-4.602104e+00,  9.269096e+00,  3.279841e+00, ...,\n",
       "          1.025074e+00,  1.473592e-01,  4.353696e-03],\n",
       "        ...,\n",
       "        [ 0.000000e+00,  0.000000e+00,  0.000000e+00, ...,\n",
       "          0.000000e+00,  0.000000e+00,  0.000000e+00],\n",
       "        [ 0.000000e+00,  0.000000e+00,  0.000000e+00, ...,\n",
       "          0.000000e+00,  0.000000e+00,  0.000000e+00],\n",
       "        [ 0.000000e+00,  0.000000e+00,  0.000000e+00, ...,\n",
       "          0.000000e+00,  0.000000e+00,  0.000000e+00]]])"
      ]
     },
     "execution_count": 94,
     "metadata": {},
     "output_type": "execute_result"
    }
   ],
   "source": [
    "TrDataEmm"
   ]
  },
  {
   "cell_type": "code",
   "execution_count": 100,
   "metadata": {},
   "outputs": [],
   "source": [
    "model = tf.keras.models.Sequential()\n",
    "model.add(Masking(mask_value=0, input_shape=(78, 39)))\n",
    "model.add(SimpleRNN(units=1))\n",
    "model.add(Dense(units=5, activation='softmax'))"
   ]
  },
  {
   "cell_type": "code",
   "execution_count": 101,
   "metadata": {},
   "outputs": [],
   "source": [
    "adam_optimizer = tf.keras.optimizers.Adam(learning_rate = 0.001)\n",
    "model.compile(loss=\"sparse_categorical_crossentropy\", optimizer = adam_optimizer, metrics=['accuracy'])\n",
    "earlystopping = tf.keras.callbacks.EarlyStopping(monitor='loss',min_delta=1e-4,patience=5,verbose=1)"
   ]
  },
  {
   "cell_type": "code",
   "execution_count": 102,
   "metadata": {},
   "outputs": [
    {
     "name": "stdout",
     "output_type": "stream",
     "text": [
      "Model: \"sequential_4\"\n",
      "_________________________________________________________________\n",
      " Layer (type)                Output Shape              Param #   \n",
      "=================================================================\n",
      " masking_3 (Masking)         (None, 78, 39)            0         \n",
      "                                                                 \n",
      " simple_rnn_3 (SimpleRNN)    (None, 1)                 41        \n",
      "                                                                 \n",
      " dense_2 (Dense)             (None, 5)                 10        \n",
      "                                                                 \n",
      "=================================================================\n",
      "Total params: 51\n",
      "Trainable params: 51\n",
      "Non-trainable params: 0\n",
      "_________________________________________________________________\n"
     ]
    }
   ],
   "source": [
    "model.summary()"
   ]
  },
  {
   "cell_type": "code",
   "execution_count": 117,
   "metadata": {},
   "outputs": [
    {
     "name": "stdout",
     "output_type": "stream",
     "text": [
      "Epoch 1/1000\n",
      "1508/1508 [==============================] - 79s 50ms/step - loss: 1.5210 - accuracy: 0.3561\n",
      "Epoch 2/1000\n",
      "1508/1508 [==============================] - 78s 52ms/step - loss: 1.2887 - accuracy: 0.5000\n",
      "Epoch 3/1000\n",
      "1508/1508 [==============================] - 68s 45ms/step - loss: 1.1925 - accuracy: 0.5153\n",
      "Epoch 4/1000\n",
      "1508/1508 [==============================] - 68s 45ms/step - loss: 1.1513 - accuracy: 0.5179\n",
      "Epoch 5/1000\n",
      "1508/1508 [==============================] - 60s 40ms/step - loss: 1.1254 - accuracy: 0.5252\n",
      "Epoch 6/1000\n",
      "1508/1508 [==============================] - 59s 39ms/step - loss: 1.1074 - accuracy: 0.5239\n",
      "Epoch 7/1000\n",
      "1508/1508 [==============================] - 65s 43ms/step - loss: 1.0934 - accuracy: 0.5252\n",
      "Epoch 8/1000\n",
      "1508/1508 [==============================] - 64s 43ms/step - loss: 1.0798 - accuracy: 0.5259\n",
      "Epoch 9/1000\n",
      "1508/1508 [==============================] - 64s 42ms/step - loss: 1.0745 - accuracy: 0.5318\n",
      "Epoch 10/1000\n",
      "1508/1508 [==============================] - 63s 42ms/step - loss: 1.0705 - accuracy: 0.5391\n",
      "Epoch 11/1000\n",
      "1508/1508 [==============================] - 64s 42ms/step - loss: 1.0624 - accuracy: 0.5391\n",
      "Epoch 12/1000\n",
      "1508/1508 [==============================] - 64s 42ms/step - loss: 1.0624 - accuracy: 0.5431\n",
      "Epoch 13/1000\n",
      "1508/1508 [==============================] - 62s 41ms/step - loss: 1.0579 - accuracy: 0.5424\n",
      "Epoch 14/1000\n",
      "1508/1508 [==============================] - 67s 44ms/step - loss: 1.0530 - accuracy: 0.5424\n",
      "Epoch 15/1000\n",
      "1508/1508 [==============================] - 63s 42ms/step - loss: 1.0522 - accuracy: 0.5444\n",
      "Epoch 16/1000\n",
      "1508/1508 [==============================] - 65s 43ms/step - loss: 1.0483 - accuracy: 0.5451\n",
      "Epoch 17/1000\n",
      "1508/1508 [==============================] - 66s 44ms/step - loss: 1.0438 - accuracy: 0.5511\n",
      "Epoch 18/1000\n",
      "1508/1508 [==============================] - 66s 43ms/step - loss: 1.0450 - accuracy: 0.5524\n",
      "Epoch 19/1000\n",
      "1508/1508 [==============================] - 65s 43ms/step - loss: 1.0402 - accuracy: 0.5584\n",
      "Epoch 20/1000\n",
      "1508/1508 [==============================] - 65s 43ms/step - loss: 1.0365 - accuracy: 0.5557\n",
      "Epoch 21/1000\n",
      "1508/1508 [==============================] - 65s 43ms/step - loss: 1.0401 - accuracy: 0.5550\n",
      "Epoch 22/1000\n",
      "1508/1508 [==============================] - 64s 42ms/step - loss: 1.0331 - accuracy: 0.5464\n",
      "Epoch 23/1000\n",
      "1508/1508 [==============================] - 64s 43ms/step - loss: 1.0327 - accuracy: 0.5531\n",
      "Epoch 24/1000\n",
      "1508/1508 [==============================] - 64s 43ms/step - loss: 1.0329 - accuracy: 0.5610\n",
      "Epoch 25/1000\n",
      "1508/1508 [==============================] - 65s 43ms/step - loss: 1.0307 - accuracy: 0.5550\n",
      "Epoch 26/1000\n",
      "1508/1508 [==============================] - 66s 44ms/step - loss: 1.0273 - accuracy: 0.5557\n",
      "Epoch 27/1000\n",
      "1508/1508 [==============================] - 67s 45ms/step - loss: 1.0282 - accuracy: 0.5577\n",
      "Epoch 28/1000\n",
      "1508/1508 [==============================] - 64s 42ms/step - loss: 1.0271 - accuracy: 0.5570\n",
      "Epoch 29/1000\n",
      "1508/1508 [==============================] - 65s 43ms/step - loss: 1.0251 - accuracy: 0.5630\n",
      "Epoch 30/1000\n",
      "1508/1508 [==============================] - 65s 43ms/step - loss: 1.0247 - accuracy: 0.5550\n",
      "Epoch 31/1000\n",
      "1508/1508 [==============================] - 67s 44ms/step - loss: 1.0247 - accuracy: 0.5637\n",
      "Epoch 32/1000\n",
      "1508/1508 [==============================] - 69s 46ms/step - loss: 1.0219 - accuracy: 0.5637\n",
      "Epoch 33/1000\n",
      "1508/1508 [==============================] - 66s 44ms/step - loss: 1.0167 - accuracy: 0.5643\n",
      "Epoch 34/1000\n",
      "1508/1508 [==============================] - 67s 45ms/step - loss: 1.0226 - accuracy: 0.5637\n",
      "Epoch 35/1000\n",
      "1508/1508 [==============================] - 65s 43ms/step - loss: 1.0190 - accuracy: 0.5690\n",
      "Epoch 36/1000\n",
      "1508/1508 [==============================] - 72s 48ms/step - loss: 1.0180 - accuracy: 0.5643\n",
      "Epoch 37/1000\n",
      "1508/1508 [==============================] - 75s 50ms/step - loss: 1.0165 - accuracy: 0.5643\n",
      "Epoch 38/1000\n",
      "1508/1508 [==============================] - 73s 48ms/step - loss: 1.0176 - accuracy: 0.5643\n",
      "Epoch 39/1000\n",
      "1508/1508 [==============================] - 75s 50ms/step - loss: 1.0140 - accuracy: 0.5696\n",
      "Epoch 40/1000\n",
      "1508/1508 [==============================] - 72s 48ms/step - loss: 1.0160 - accuracy: 0.5670\n",
      "Epoch 41/1000\n",
      "1508/1508 [==============================] - 79s 52ms/step - loss: 1.0146 - accuracy: 0.5736\n",
      "Epoch 42/1000\n",
      "1508/1508 [==============================] - 70s 46ms/step - loss: 1.0184 - accuracy: 0.5603\n",
      "Epoch 43/1000\n",
      "1508/1508 [==============================] - 71s 47ms/step - loss: 1.0169 - accuracy: 0.5736\n",
      "Epoch 44/1000\n",
      "1508/1508 [==============================] - 71s 47ms/step - loss: 1.0102 - accuracy: 0.5743\n",
      "Epoch 45/1000\n",
      "1508/1508 [==============================] - 69s 45ms/step - loss: 1.0112 - accuracy: 0.5723\n",
      "Epoch 46/1000\n",
      "1508/1508 [==============================] - 65s 43ms/step - loss: 1.0154 - accuracy: 0.5637\n",
      "Epoch 47/1000\n",
      "1508/1508 [==============================] - 64s 43ms/step - loss: 1.0096 - accuracy: 0.5610\n",
      "Epoch 48/1000\n",
      "1508/1508 [==============================] - 83s 55ms/step - loss: 1.0100 - accuracy: 0.5690\n",
      "Epoch 49/1000\n",
      "1508/1508 [==============================] - 90s 60ms/step - loss: 1.0124 - accuracy: 0.5710\n",
      "Epoch 50/1000\n",
      "1508/1508 [==============================] - 94s 63ms/step - loss: 1.0100 - accuracy: 0.5650\n",
      "Epoch 51/1000\n",
      "1508/1508 [==============================] - 77s 51ms/step - loss: 1.0078 - accuracy: 0.5802\n",
      "Epoch 52/1000\n",
      "1508/1508 [==============================] - 78s 52ms/step - loss: 1.0059 - accuracy: 0.5776\n",
      "Epoch 53/1000\n",
      "1508/1508 [==============================] - 85s 56ms/step - loss: 1.0106 - accuracy: 0.5756\n",
      "Epoch 54/1000\n",
      "1508/1508 [==============================] - 86s 57ms/step - loss: 1.0083 - accuracy: 0.5776\n",
      "Epoch 55/1000\n",
      "1508/1508 [==============================] - 83s 55ms/step - loss: 1.0008 - accuracy: 0.5769\n",
      "Epoch 56/1000\n",
      "1508/1508 [==============================] - 73s 48ms/step - loss: 1.0063 - accuracy: 0.5756\n",
      "Epoch 57/1000\n",
      "1508/1508 [==============================] - 75s 50ms/step - loss: 1.0062 - accuracy: 0.5763\n",
      "Epoch 58/1000\n",
      "1508/1508 [==============================] - 76s 50ms/step - loss: 1.0070 - accuracy: 0.5710\n",
      "Epoch 59/1000\n",
      "1508/1508 [==============================] - 74s 49ms/step - loss: 0.9995 - accuracy: 0.5816\n",
      "Epoch 60/1000\n",
      "1508/1508 [==============================] - 73s 48ms/step - loss: 1.0068 - accuracy: 0.5789\n",
      "Epoch 61/1000\n",
      "1508/1508 [==============================] - 75s 50ms/step - loss: 1.0063 - accuracy: 0.5822\n",
      "Epoch 62/1000\n",
      "1508/1508 [==============================] - 71s 47ms/step - loss: 1.0019 - accuracy: 0.5716\n",
      "Epoch 63/1000\n",
      "1508/1508 [==============================] - 74s 49ms/step - loss: 1.0034 - accuracy: 0.5809\n",
      "Epoch 64/1000\n",
      "1508/1508 [==============================] - 74s 49ms/step - loss: 1.0045 - accuracy: 0.5736\n",
      "Epoch 64: early stopping\n"
     ]
    }
   ],
   "source": [
    "history = model.fit(x=TrDataEmm, y=TrLabel,batch_size=1, epochs=1000,callbacks=[earlystopping],verbose=1, shuffle=True)"
   ]
  },
  {
   "cell_type": "code",
   "execution_count": 118,
   "metadata": {},
   "outputs": [
    {
     "data": {
      "text/plain": [
       "Text(0.5, 1.0, 'Loss per epoch')"
      ]
     },
     "execution_count": 118,
     "metadata": {},
     "output_type": "execute_result"
    },
    {
     "data": {
      "image/png": "[encoded data removed]",
      "text/plain": [
       "<Figure size 640x480 with 1 Axes>"
      ]
     },
     "metadata": {},
     "output_type": "display_data"
    }
   ],
   "source": [
    "loss=history.history[\"loss\"]\n",
    "plt.plot(loss)\n",
    "plt.xlabel(\"Epochs\")\n",
    "plt.ylabel(\"loss\")\n",
    "plt.title(\"Loss per epoch\")"
   ]
  },
  {
   "cell_type": "code",
   "execution_count": 120,
   "metadata": {},
   "outputs": [
    {
     "name": "stdout",
     "output_type": "stream",
     "text": [
      "48/48 [==============================] - 1s 21ms/step - loss: 0.9938 - accuracy: 0.5796\n"
     ]
    },
    {
     "data": {
      "text/plain": [
       "[0.9938168525695801, 0.5795755982398987]"
      ]
     },
     "execution_count": 120,
     "metadata": {},
     "output_type": "execute_result"
    }
   ],
   "source": [
    "model.evaluate(TrDataEmm,TrLabel)"
   ]
  },
  {
   "cell_type": "code",
   "execution_count": 121,
   "metadata": {},
   "outputs": [
    {
     "name": "stdout",
     "output_type": "stream",
     "text": [
      "12/12 [==============================] - 0s 18ms/step - loss: 1.0709 - accuracy: 0.5385\n"
     ]
    },
    {
     "data": {
      "text/plain": [
       "[1.070894718170166, 0.5384615659713745]"
      ]
     },
     "execution_count": 121,
     "metadata": {},
     "output_type": "execute_result"
    }
   ],
   "source": [
    "model.evaluate(TestDataEmm,TestLabel)"
   ]
  },
  {
   "cell_type": "code",
   "execution_count": 123,
   "metadata": {},
   "outputs": [],
   "source": [
    "model1 = tf.keras.models.Sequential()\n",
    "model1.add(Masking(mask_value=0, input_shape=(78, 39)))\n",
    "model1.add(SimpleRNN(units=5))\n",
    "model1.add(Dense(units=5, activation='softmax'))"
   ]
  },
  {
   "cell_type": "code",
   "execution_count": 124,
   "metadata": {},
   "outputs": [],
   "source": [
    "adam_optimizer = tf.keras.optimizers.Adam(learning_rate = 0.001)\n",
    "model1.compile(loss=\"sparse_categorical_crossentropy\", optimizer = adam_optimizer, metrics=['accuracy'])\n",
    "earlystopping = tf.keras.callbacks.EarlyStopping(monitor='loss',min_delta=1e-4,patience=5,verbose=1)"
   ]
  },
  {
   "cell_type": "code",
   "execution_count": 125,
   "metadata": {},
   "outputs": [
    {
     "name": "stdout",
     "output_type": "stream",
     "text": [
      "Model: \"sequential_5\"\n",
      "_________________________________________________________________\n",
      " Layer (type)                Output Shape              Param #   \n",
      "=================================================================\n",
      " masking_4 (Masking)         (None, 78, 39)            0         \n",
      "                                                                 \n",
      " simple_rnn_4 (SimpleRNN)    (None, 5)                 225       \n",
      "                                                                 \n",
      " dense_3 (Dense)             (None, 5)                 30        \n",
      "                                                                 \n",
      "=================================================================\n",
      "Total params: 255\n",
      "Trainable params: 255\n",
      "Non-trainable params: 0\n",
      "_________________________________________________________________\n"
     ]
    }
   ],
   "source": [
    "model1.summary()"
   ]
  },
  {
   "cell_type": "code",
   "execution_count": 126,
   "metadata": {},
   "outputs": [
    {
     "name": "stdout",
     "output_type": "stream",
     "text": [
      "Epoch 1/1000\n",
      "1508/1508 [==============================] - 78s 48ms/step - loss: 1.3670 - accuracy: 0.4595\n",
      "Epoch 2/1000\n",
      "1508/1508 [==============================] - 68s 45ms/step - loss: 1.1562 - accuracy: 0.5259\n",
      "Epoch 3/1000\n",
      "1508/1508 [==============================] - 71s 47ms/step - loss: 1.0719 - accuracy: 0.5577\n",
      "Epoch 4/1000\n",
      "1508/1508 [==============================] - 66s 44ms/step - loss: 1.0245 - accuracy: 0.5743\n",
      "Epoch 5/1000\n",
      "1508/1508 [==============================] - 69s 46ms/step - loss: 1.0018 - accuracy: 0.5862\n",
      "Epoch 6/1000\n",
      "1508/1508 [==============================] - 65s 43ms/step - loss: 0.9820 - accuracy: 0.5915\n",
      "Epoch 7/1000\n",
      "1508/1508 [==============================] - 75s 50ms/step - loss: 0.9662 - accuracy: 0.5935\n",
      "Epoch 8/1000\n",
      "1508/1508 [==============================] - 68s 45ms/step - loss: 0.9469 - accuracy: 0.5995\n",
      "Epoch 9/1000\n",
      "1508/1508 [==============================] - 51s 34ms/step - loss: 0.9326 - accuracy: 0.6114\n",
      "Epoch 10/1000\n",
      "1508/1508 [==============================] - 46s 31ms/step - loss: 0.9143 - accuracy: 0.6160\n",
      "Epoch 11/1000\n",
      "1508/1508 [==============================] - 65s 43ms/step - loss: 0.8941 - accuracy: 0.6306\n",
      "Epoch 12/1000\n",
      "1508/1508 [==============================] - 80s 53ms/step - loss: 0.8807 - accuracy: 0.6333\n",
      "Epoch 13/1000\n",
      "1508/1508 [==============================] - 73s 48ms/step - loss: 0.8648 - accuracy: 0.6326\n",
      "Epoch 14/1000\n",
      "1508/1508 [==============================] - 67s 44ms/step - loss: 0.8474 - accuracy: 0.6412\n",
      "Epoch 15/1000\n",
      "1508/1508 [==============================] - 67s 44ms/step - loss: 0.8480 - accuracy: 0.6333\n",
      "Epoch 16/1000\n",
      "1508/1508 [==============================] - 73s 49ms/step - loss: 0.8269 - accuracy: 0.6406\n",
      "Epoch 17/1000\n",
      "1508/1508 [==============================] - 91s 60ms/step - loss: 0.8269 - accuracy: 0.6459\n",
      "Epoch 18/1000\n",
      "1508/1508 [==============================] - 91s 60ms/step - loss: 0.8134 - accuracy: 0.6492\n",
      "Epoch 19/1000\n",
      "1508/1508 [==============================] - 74s 49ms/step - loss: 0.7996 - accuracy: 0.6645\n",
      "Epoch 20/1000\n",
      "1508/1508 [==============================] - 103s 68ms/step - loss: 0.7887 - accuracy: 0.6631\n",
      "Epoch 21/1000\n",
      "1508/1508 [==============================] - 72s 48ms/step - loss: 0.7826 - accuracy: 0.6645\n",
      "Epoch 22/1000\n",
      "1508/1508 [==============================] - 70s 46ms/step - loss: 0.7719 - accuracy: 0.6837\n",
      "Epoch 23/1000\n",
      "1508/1508 [==============================] - 68s 45ms/step - loss: 0.7797 - accuracy: 0.6804\n",
      "Epoch 24/1000\n",
      "1508/1508 [==============================] - 65s 43ms/step - loss: 0.7776 - accuracy: 0.6863\n",
      "Epoch 25/1000\n",
      "1508/1508 [==============================] - 67s 44ms/step - loss: 0.7754 - accuracy: 0.6910\n",
      "Epoch 26/1000\n",
      "1508/1508 [==============================] - 64s 43ms/step - loss: 0.7826 - accuracy: 0.6863\n",
      "Epoch 27/1000\n",
      "1508/1508 [==============================] - 65s 43ms/step - loss: 0.7596 - accuracy: 0.7049\n",
      "Epoch 28/1000\n",
      "1508/1508 [==============================] - 66s 44ms/step - loss: 0.7610 - accuracy: 0.7003\n",
      "Epoch 29/1000\n",
      "1508/1508 [==============================] - 70s 46ms/step - loss: 0.7660 - accuracy: 0.6969\n",
      "Epoch 30/1000\n",
      "1508/1508 [==============================] - 66s 44ms/step - loss: 0.7755 - accuracy: 0.6890\n",
      "Epoch 31/1000\n",
      "1508/1508 [==============================] - 65s 43ms/step - loss: 0.7435 - accuracy: 0.7009\n",
      "Epoch 32/1000\n",
      "1508/1508 [==============================] - 68s 45ms/step - loss: 0.7477 - accuracy: 0.6976\n",
      "Epoch 33/1000\n",
      "1508/1508 [==============================] - 71s 47ms/step - loss: 0.7561 - accuracy: 0.7056\n",
      "Epoch 34/1000\n",
      "1508/1508 [==============================] - 65s 43ms/step - loss: 0.7377 - accuracy: 0.7102\n",
      "Epoch 35/1000\n",
      "1508/1508 [==============================] - 65s 43ms/step - loss: 0.7701 - accuracy: 0.7049\n",
      "Epoch 36/1000\n",
      "1508/1508 [==============================] - 59s 39ms/step - loss: 0.7244 - accuracy: 0.7241\n",
      "Epoch 37/1000\n",
      "1508/1508 [==============================] - 50s 33ms/step - loss: 0.7357 - accuracy: 0.7129\n",
      "Epoch 38/1000\n",
      "1508/1508 [==============================] - 46s 31ms/step - loss: 0.7285 - accuracy: 0.7115\n",
      "Epoch 39/1000\n",
      "1508/1508 [==============================] - 59s 39ms/step - loss: 0.7120 - accuracy: 0.7182\n",
      "Epoch 40/1000\n",
      "1508/1508 [==============================] - 52s 34ms/step - loss: 0.7244 - accuracy: 0.7095\n",
      "Epoch 41/1000\n",
      "1508/1508 [==============================] - 75s 50ms/step - loss: 0.7154 - accuracy: 0.7129\n",
      "Epoch 42/1000\n",
      "1508/1508 [==============================] - 50s 33ms/step - loss: 0.7191 - accuracy: 0.7122\n",
      "Epoch 43/1000\n",
      "1508/1508 [==============================] - 50s 33ms/step - loss: 0.7110 - accuracy: 0.7102\n",
      "Epoch 44/1000\n",
      "1508/1508 [==============================] - 50s 33ms/step - loss: 0.7100 - accuracy: 0.7135\n",
      "Epoch 45/1000\n",
      "1508/1508 [==============================] - 44s 29ms/step - loss: 0.6908 - accuracy: 0.7135\n",
      "Epoch 46/1000\n",
      "1508/1508 [==============================] - 44s 29ms/step - loss: 0.7208 - accuracy: 0.7129\n",
      "Epoch 47/1000\n",
      "1508/1508 [==============================] - 44s 29ms/step - loss: 0.7009 - accuracy: 0.7155\n",
      "Epoch 48/1000\n",
      "1508/1508 [==============================] - 43s 29ms/step - loss: 0.6981 - accuracy: 0.7208\n",
      "Epoch 49/1000\n",
      "1508/1508 [==============================] - 44s 29ms/step - loss: 0.7088 - accuracy: 0.7142\n",
      "Epoch 50/1000\n",
      "1508/1508 [==============================] - 44s 29ms/step - loss: 0.7069 - accuracy: 0.7115\n",
      "Epoch 50: early stopping\n"
     ]
    }
   ],
   "source": [
    "history1 = model1.fit(x=TrDataEmm, y=TrLabel,batch_size=1, epochs=1000,callbacks=[earlystopping],verbose=1, shuffle=True)"
   ]
  },
  {
   "cell_type": "code",
   "execution_count": 127,
   "metadata": {},
   "outputs": [
    {
     "data": {
      "text/plain": [
       "Text(0.5, 1.0, 'Loss per epoch')"
      ]
     },
     "execution_count": 127,
     "metadata": {},
     "output_type": "execute_result"
    },
    {
     "data": {
      "image/png": "[encoded data removed]",
      "text/plain": [
       "<Figure size 640x480 with 1 Axes>"
      ]
     },
     "metadata": {},
     "output_type": "display_data"
    }
   ],
   "source": [
    "loss1=history1.history[\"loss\"]\n",
    "plt.plot(loss1)\n",
    "plt.xlabel(\"Epochs\")\n",
    "plt.ylabel(\"loss\")\n",
    "plt.title(\"Loss per epoch\")"
   ]
  },
  {
   "cell_type": "code",
   "execution_count": 128,
   "metadata": {},
   "outputs": [
    {
     "name": "stdout",
     "output_type": "stream",
     "text": [
      "48/48 [==============================] - 4s 22ms/step - loss: 0.8166 - accuracy: 0.6618\n"
     ]
    },
    {
     "data": {
      "text/plain": [
       "[0.8166260123252869, 0.6618037223815918]"
      ]
     },
     "execution_count": 128,
     "metadata": {},
     "output_type": "execute_result"
    }
   ],
   "source": [
    "model1.evaluate(TrDataEmm,TrLabel)"
   ]
  },
  {
   "cell_type": "code",
   "execution_count": 129,
   "metadata": {},
   "outputs": [
    {
     "name": "stdout",
     "output_type": "stream",
     "text": [
      "12/12 [==============================] - 0s 22ms/step - loss: 0.9515 - accuracy: 0.6207\n"
     ]
    },
    {
     "data": {
      "text/plain": [
       "[0.9514713287353516, 0.6206896305084229]"
      ]
     },
     "execution_count": 129,
     "metadata": {},
     "output_type": "execute_result"
    }
   ],
   "source": [
    "model1.evaluate(TestDataEmm,TestLabel)"
   ]
  },
  {
   "cell_type": "code",
   "execution_count": 24,
   "metadata": {},
   "outputs": [],
   "source": [
    "model2 = tf.keras.models.Sequential()\n",
    "model2.add(Masking(mask_value=0, input_shape=(78, 39)))\n",
    "model2.add(SimpleRNN(units=5,return_sequences=True))\n",
    "model2.add(SimpleRNN(units=5))\n",
    "model2.add(Dense(units=5, activation='softmax'))"
   ]
  },
  {
   "cell_type": "code",
   "execution_count": 25,
   "metadata": {},
   "outputs": [],
   "source": [
    "adam_optimizer = tf.keras.optimizers.Adam(learning_rate = 0.001)\n",
    "model2.compile(loss=\"sparse_categorical_crossentropy\", optimizer = adam_optimizer, metrics=['accuracy'])\n",
    "earlystopping = tf.keras.callbacks.EarlyStopping(monitor='loss',min_delta=1e-4,patience=5,verbose=1)"
   ]
  },
  {
   "cell_type": "code",
   "execution_count": 26,
   "metadata": {},
   "outputs": [
    {
     "name": "stdout",
     "output_type": "stream",
     "text": [
      "Model: \"sequential_2\"\n",
      "_________________________________________________________________\n",
      " Layer (type)                Output Shape              Param #   \n",
      "=================================================================\n",
      " masking_2 (Masking)         (None, 78, 39)            0         \n",
      "                                                                 \n",
      " simple_rnn (SimpleRNN)      (None, 78, 5)             225       \n",
      "                                                                 \n",
      " simple_rnn_1 (SimpleRNN)    (None, 5)                 55        \n",
      "                                                                 \n",
      " dense_2 (Dense)             (None, 5)                 30        \n",
      "                                                                 \n",
      "=================================================================\n",
      "Total params: 310\n",
      "Trainable params: 310\n",
      "Non-trainable params: 0\n",
      "_________________________________________________________________\n"
     ]
    }
   ],
   "source": [
    "model2.summary()"
   ]
  },
  {
   "cell_type": "code",
   "execution_count": 27,
   "metadata": {},
   "outputs": [
    {
     "name": "stdout",
     "output_type": "stream",
     "text": [
      "Epoch 1/1000\n",
      "1508/1508 [==============================] - 154s 96ms/step - loss: 1.5751 - accuracy: 0.2984\n",
      "Epoch 2/1000\n",
      "1508/1508 [==============================] - 149s 99ms/step - loss: 1.2279 - accuracy: 0.5179\n",
      "Epoch 3/1000\n",
      "1508/1508 [==============================] - 141s 93ms/step - loss: 1.0606 - accuracy: 0.5603\n",
      "Epoch 4/1000\n",
      "1508/1508 [==============================] - 117s 78ms/step - loss: 0.9915 - accuracy: 0.5862\n",
      "Epoch 5/1000\n",
      "1508/1508 [==============================] - 113s 75ms/step - loss: 0.9595 - accuracy: 0.6015\n",
      "Epoch 6/1000\n",
      "1508/1508 [==============================] - 117s 78ms/step - loss: 0.9363 - accuracy: 0.6174\n",
      "Epoch 7/1000\n",
      "1508/1508 [==============================] - 116s 77ms/step - loss: 0.9000 - accuracy: 0.6247\n",
      "Epoch 8/1000\n",
      "1508/1508 [==============================] - 105s 70ms/step - loss: 0.8653 - accuracy: 0.6306\n",
      "Epoch 9/1000\n",
      "1508/1508 [==============================] - 106s 70ms/step - loss: 0.8421 - accuracy: 0.6300\n",
      "Epoch 10/1000\n",
      "1508/1508 [==============================] - 104s 69ms/step - loss: 0.8300 - accuracy: 0.6439\n",
      "Epoch 11/1000\n",
      "1508/1508 [==============================] - 101s 67ms/step - loss: 0.7997 - accuracy: 0.6519\n",
      "Epoch 12/1000\n",
      "1508/1508 [==============================] - 113s 75ms/step - loss: 0.7898 - accuracy: 0.6585\n",
      "Epoch 13/1000\n",
      "1508/1508 [==============================] - 119s 79ms/step - loss: 0.7680 - accuracy: 0.6519\n",
      "Epoch 14/1000\n",
      "1508/1508 [==============================] - 115s 76ms/step - loss: 0.7814 - accuracy: 0.6545\n",
      "Epoch 15/1000\n",
      "1508/1508 [==============================] - 105s 70ms/step - loss: 0.7486 - accuracy: 0.6651\n",
      "Epoch 16/1000\n",
      "1508/1508 [==============================] - 101s 67ms/step - loss: 0.7430 - accuracy: 0.6645\n",
      "Epoch 17/1000\n",
      "1508/1508 [==============================] - 109s 72ms/step - loss: 0.7244 - accuracy: 0.6678\n",
      "Epoch 18/1000\n",
      "1508/1508 [==============================] - 118s 78ms/step - loss: 0.7274 - accuracy: 0.6651\n",
      "Epoch 19/1000\n",
      "1508/1508 [==============================] - 134s 89ms/step - loss: 0.7245 - accuracy: 0.6698\n",
      "Epoch 20/1000\n",
      "1508/1508 [==============================] - 135s 89ms/step - loss: 0.6999 - accuracy: 0.6744\n",
      "Epoch 21/1000\n",
      "1508/1508 [==============================] - 136s 90ms/step - loss: 0.6904 - accuracy: 0.6771\n",
      "Epoch 22/1000\n",
      "1508/1508 [==============================] - 133s 88ms/step - loss: 0.6870 - accuracy: 0.6718\n",
      "Epoch 23/1000\n",
      "1508/1508 [==============================] - 135s 90ms/step - loss: 0.6798 - accuracy: 0.6731\n",
      "Epoch 24/1000\n",
      "1508/1508 [==============================] - 132s 87ms/step - loss: 0.6685 - accuracy: 0.6850\n",
      "Epoch 25/1000\n",
      "1508/1508 [==============================] - 130s 86ms/step - loss: 0.6710 - accuracy: 0.6863\n",
      "Epoch 26/1000\n",
      "1508/1508 [==============================] - 131s 87ms/step - loss: 0.6704 - accuracy: 0.6969\n",
      "Epoch 27/1000\n",
      "1508/1508 [==============================] - 130s 86ms/step - loss: 0.6824 - accuracy: 0.6943\n",
      "Epoch 28/1000\n",
      "1508/1508 [==============================] - 131s 87ms/step - loss: 0.6731 - accuracy: 0.6910\n",
      "Epoch 29/1000\n",
      "1508/1508 [==============================] - 130s 86ms/step - loss: 0.6617 - accuracy: 0.6976\n",
      "Epoch 30/1000\n",
      "1508/1508 [==============================] - 132s 87ms/step - loss: 0.6506 - accuracy: 0.6903\n",
      "Epoch 31/1000\n",
      "1508/1508 [==============================] - 131s 87ms/step - loss: 0.6532 - accuracy: 0.6976\n",
      "Epoch 32/1000\n",
      "1508/1508 [==============================] - 130s 86ms/step - loss: 0.6489 - accuracy: 0.7202\n",
      "Epoch 33/1000\n",
      "1508/1508 [==============================] - 122s 81ms/step - loss: 0.6385 - accuracy: 0.7215\n",
      "Epoch 34/1000\n",
      "1508/1508 [==============================] - 125s 83ms/step - loss: 0.6484 - accuracy: 0.7082\n",
      "Epoch 35/1000\n",
      "1508/1508 [==============================] - 125s 83ms/step - loss: 0.6391 - accuracy: 0.7102\n",
      "Epoch 36/1000\n",
      "1508/1508 [==============================] - 124s 82ms/step - loss: 0.6469 - accuracy: 0.7155\n",
      "Epoch 37/1000\n",
      "1508/1508 [==============================] - 123s 81ms/step - loss: 0.6327 - accuracy: 0.7308\n",
      "Epoch 38/1000\n",
      "1508/1508 [==============================] - 124s 82ms/step - loss: 0.6097 - accuracy: 0.7440\n",
      "Epoch 39/1000\n",
      "1508/1508 [==============================] - 124s 82ms/step - loss: 0.6163 - accuracy: 0.7341\n",
      "Epoch 40/1000\n",
      "1508/1508 [==============================] - 125s 83ms/step - loss: 0.6012 - accuracy: 0.7440\n",
      "Epoch 41/1000\n",
      "1508/1508 [==============================] - 123s 82ms/step - loss: 0.6202 - accuracy: 0.7387\n",
      "Epoch 42/1000\n",
      "1508/1508 [==============================] - 126s 83ms/step - loss: 0.6036 - accuracy: 0.7454\n",
      "Epoch 43/1000\n",
      "1508/1508 [==============================] - 124s 82ms/step - loss: 0.5967 - accuracy: 0.7374\n",
      "Epoch 44/1000\n",
      "1508/1508 [==============================] - 124s 82ms/step - loss: 0.5998 - accuracy: 0.7467\n",
      "Epoch 45/1000\n",
      "1508/1508 [==============================] - 128s 85ms/step - loss: 0.5866 - accuracy: 0.7507\n",
      "Epoch 46/1000\n",
      "1508/1508 [==============================] - 128s 85ms/step - loss: 0.5816 - accuracy: 0.7533\n",
      "Epoch 47/1000\n",
      "1508/1508 [==============================] - 130s 86ms/step - loss: 0.5849 - accuracy: 0.7566\n",
      "Epoch 48/1000\n",
      "1508/1508 [==============================] - 126s 83ms/step - loss: 0.5946 - accuracy: 0.7500\n",
      "Epoch 49/1000\n",
      "1508/1508 [==============================] - 145s 96ms/step - loss: 0.5843 - accuracy: 0.7560\n",
      "Epoch 50/1000\n",
      "1508/1508 [==============================] - 172s 114ms/step - loss: 0.6105 - accuracy: 0.7374\n",
      "Epoch 51/1000\n",
      "1508/1508 [==============================] - 249s 165ms/step - loss: 0.5852 - accuracy: 0.7434\n",
      "Epoch 51: early stopping\n"
     ]
    }
   ],
   "source": [
    "history2 = model2.fit(x=TrDataEmm, y=TrLabel,batch_size=1, epochs=1000,callbacks=[earlystopping],verbose=1, shuffle=True)"
   ]
  },
  {
   "cell_type": "code",
   "execution_count": 28,
   "metadata": {},
   "outputs": [
    {
     "data": {
      "text/plain": [
       "Text(0.5, 1.0, 'error vs epoch')"
      ]
     },
     "execution_count": 28,
     "metadata": {},
     "output_type": "execute_result"
    },
    {
     "data": {
      "image/png": "[encoded data removed]",
      "text/plain": [
       "<Figure size 640x480 with 1 Axes>"
      ]
     },
     "metadata": {},
     "output_type": "display_data"
    }
   ],
   "source": [
    "loss2=history2.history[\"loss\"]\n",
    "plt.plot(loss2)\n",
    "plt.xlabel(\"epochs\")\n",
    "plt.ylabel(\"error\")\n",
    "plt.title(\"error vs epoch\")"
   ]
  },
  {
   "cell_type": "code",
   "execution_count": 29,
   "metadata": {},
   "outputs": [
    {
     "name": "stdout",
     "output_type": "stream",
     "text": [
      "48/48 [==============================] - 4s 35ms/step - loss: 0.5557 - accuracy: 0.7719\n"
     ]
    },
    {
     "data": {
      "text/plain": [
       "[0.5557175278663635, 0.7718833088874817]"
      ]
     },
     "execution_count": 29,
     "metadata": {},
     "output_type": "execute_result"
    }
   ],
   "source": [
    "model2.evaluate(TrDataEmm,TrLabel)"
   ]
  },
  {
   "cell_type": "code",
   "execution_count": 30,
   "metadata": {},
   "outputs": [
    {
     "name": "stdout",
     "output_type": "stream",
     "text": [
      "12/12 [==============================] - 1s 45ms/step - loss: 0.6997 - accuracy: 0.7374\n"
     ]
    },
    {
     "data": {
      "text/plain": [
       "[0.6996667385101318, 0.7374005317687988]"
      ]
     },
     "execution_count": 30,
     "metadata": {},
     "output_type": "execute_result"
    }
   ],
   "source": [
    "model2.evaluate(TestDataEmm,TestLabel)"
   ]
  },
  {
   "cell_type": "code",
   "execution_count": 31,
   "metadata": {},
   "outputs": [
    {
     "name": "stdout",
     "output_type": "stream",
     "text": [
      "48/48 [==============================] - 3s 33ms/step\n"
     ]
    },
    {
     "data": {
      "text/plain": [
       "<tf.Tensor: shape=(5, 5), dtype=int32, numpy=\n",
       "array([[248,   4,  11,   1,  26],\n",
       "       [  5, 162,   3,   0,  27],\n",
       "       [  0,   2, 500,   0,   0],\n",
       "       [182,   1,  11,   3,  15],\n",
       "       [ 18,  37,   1,   0, 251]])>"
      ]
     },
     "execution_count": 31,
     "metadata": {},
     "output_type": "execute_result"
    }
   ],
   "source": [
    "Pred1=model2.predict(x=TrDataEmm)\n",
    "Pred1 = tf.argmax(Pred1, axis=1)\n",
    "TrConf1=tf.math.confusion_matrix(labels=TrLabel,predictions=Pred1)\n",
    "TrConf1"
   ]
  },
  {
   "cell_type": "code",
   "execution_count": 33,
   "metadata": {},
   "outputs": [
    {
     "name": "stdout",
     "output_type": "stream",
     "text": [
      "12/12 [==============================] - 0s 32ms/step\n"
     ]
    },
    {
     "data": {
      "text/plain": [
       "<tf.Tensor: shape=(5, 5), dtype=int32, numpy=\n",
       "array([[ 63,   0,   5,   0,   4],\n",
       "       [  0,  38,   1,   0,  10],\n",
       "       [  5,   0, 120,   0,   1],\n",
       "       [ 43,   1,   4,   0,   5],\n",
       "       [ 11,   8,   1,   0,  57]])>"
      ]
     },
     "execution_count": 33,
     "metadata": {},
     "output_type": "execute_result"
    }
   ],
   "source": [
    "Pred1=model2.predict(x=TestDataEmm)\n",
    "Pred1 = tf.argmax(Pred1, axis=1)\n",
    "TestConf1=tf.math.confusion_matrix(labels=TestLabel,predictions=Pred1)\n",
    "TestConf1"
   ]
  },
  {
   "cell_type": "code",
   "execution_count": 153,
   "metadata": {},
   "outputs": [],
   "source": [
    "model3 = tf.keras.models.Sequential()\n",
    "model3.add(Masking(mask_value=0, input_shape=(78, 39)))\n",
    "model3.add(LSTM(units=5))#,return_sequences=True))\n",
    "#model3.add(SimpleRNN(units=5))\n",
    "model3.add(Dense(units=5, activation='softmax'))"
   ]
  },
  {
   "cell_type": "code",
   "execution_count": 154,
   "metadata": {},
   "outputs": [],
   "source": [
    "adam_optimizer = tf.keras.optimizers.Adam(learning_rate = 0.001)\n",
    "model3.compile(loss=\"sparse_categorical_crossentropy\", optimizer = adam_optimizer, metrics=['accuracy'])\n",
    "earlystopping = tf.keras.callbacks.EarlyStopping(monitor='loss',min_delta=1e-4,patience=5,verbose=1)"
   ]
  },
  {
   "cell_type": "code",
   "execution_count": 155,
   "metadata": {},
   "outputs": [
    {
     "name": "stdout",
     "output_type": "stream",
     "text": [
      "Model: \"sequential_12\"\n",
      "_________________________________________________________________\n",
      " Layer (type)                Output Shape              Param #   \n",
      "=================================================================\n",
      " masking_11 (Masking)        (None, 78, 39)            0         \n",
      "                                                                 \n",
      " lstm (LSTM)                 (None, 5)                 900       \n",
      "                                                                 \n",
      " dense_6 (Dense)             (None, 5)                 30        \n",
      "                                                                 \n",
      "=================================================================\n",
      "Total params: 930\n",
      "Trainable params: 930\n",
      "Non-trainable params: 0\n",
      "_________________________________________________________________\n"
     ]
    }
   ],
   "source": [
    "model3.summary()"
   ]
  },
  {
   "cell_type": "code",
   "execution_count": 156,
   "metadata": {},
   "outputs": [
    {
     "name": "stdout",
     "output_type": "stream",
     "text": [
      "Epoch 1/1000\n",
      "1508/1508 [==============================] - 114s 66ms/step - loss: 1.4581 - accuracy: 0.4271\n",
      "Epoch 2/1000\n",
      "1508/1508 [==============================] - 97s 64ms/step - loss: 1.0418 - accuracy: 0.5908\n",
      "Epoch 3/1000\n",
      "1508/1508 [==============================] - 91s 60ms/step - loss: 0.8110 - accuracy: 0.6923\n",
      "Epoch 4/1000\n",
      "1508/1508 [==============================] - 96s 64ms/step - loss: 0.7088 - accuracy: 0.7241\n",
      "Epoch 5/1000\n",
      "1508/1508 [==============================] - 92s 61ms/step - loss: 0.6520 - accuracy: 0.7387\n",
      "Epoch 6/1000\n",
      "1508/1508 [==============================] - 92s 61ms/step - loss: 0.6147 - accuracy: 0.7467\n",
      "Epoch 7/1000\n",
      "1508/1508 [==============================] - 91s 60ms/step - loss: 0.5839 - accuracy: 0.7653\n",
      "Epoch 8/1000\n",
      "1508/1508 [==============================] - 98s 65ms/step - loss: 0.5480 - accuracy: 0.7745\n",
      "Epoch 9/1000\n",
      "1508/1508 [==============================] - 76s 50ms/step - loss: 0.5372 - accuracy: 0.7812\n",
      "Epoch 10/1000\n",
      "1508/1508 [==============================] - 61s 40ms/step - loss: 0.5148 - accuracy: 0.7865\n",
      "Epoch 11/1000\n",
      "1508/1508 [==============================] - 59s 39ms/step - loss: 0.5128 - accuracy: 0.7885\n",
      "Epoch 12/1000\n",
      "1508/1508 [==============================] - 60s 40ms/step - loss: 0.4838 - accuracy: 0.7971\n",
      "Epoch 13/1000\n",
      "1508/1508 [==============================] - 78s 52ms/step - loss: 0.4737 - accuracy: 0.8077\n",
      "Epoch 14/1000\n",
      "1508/1508 [==============================] - 78s 52ms/step - loss: 0.4540 - accuracy: 0.8163\n",
      "Epoch 15/1000\n",
      "1508/1508 [==============================] - 66s 44ms/step - loss: 0.4503 - accuracy: 0.8150\n",
      "Epoch 16/1000\n",
      "1508/1508 [==============================] - 73s 48ms/step - loss: 0.4460 - accuracy: 0.8143\n",
      "Epoch 17/1000\n",
      "1508/1508 [==============================] - 79s 52ms/step - loss: 0.4441 - accuracy: 0.8170\n",
      "Epoch 18/1000\n",
      "1508/1508 [==============================] - 61s 40ms/step - loss: 0.4287 - accuracy: 0.8282\n",
      "Epoch 19/1000\n",
      "1508/1508 [==============================] - 61s 40ms/step - loss: 0.4267 - accuracy: 0.8289\n",
      "Epoch 20/1000\n",
      "1508/1508 [==============================] - 59s 39ms/step - loss: 0.4161 - accuracy: 0.8336\n",
      "Epoch 21/1000\n",
      "1508/1508 [==============================] - 60s 40ms/step - loss: 0.4134 - accuracy: 0.8309\n",
      "Epoch 22/1000\n",
      "1508/1508 [==============================] - 60s 40ms/step - loss: 0.4013 - accuracy: 0.8369\n",
      "Epoch 23/1000\n",
      "1508/1508 [==============================] - 59s 39ms/step - loss: 0.4078 - accuracy: 0.8349\n",
      "Epoch 24/1000\n",
      "1508/1508 [==============================] - 59s 39ms/step - loss: 0.3883 - accuracy: 0.8375\n",
      "Epoch 25/1000\n",
      "1508/1508 [==============================] - 62s 41ms/step - loss: 0.3889 - accuracy: 0.8395\n",
      "Epoch 26/1000\n",
      "1508/1508 [==============================] - 59s 39ms/step - loss: 0.3743 - accuracy: 0.8481\n",
      "Epoch 27/1000\n",
      "1508/1508 [==============================] - 59s 39ms/step - loss: 0.3774 - accuracy: 0.8475\n",
      "Epoch 28/1000\n",
      "1508/1508 [==============================] - 60s 40ms/step - loss: 0.3810 - accuracy: 0.8408\n",
      "Epoch 29/1000\n",
      "1508/1508 [==============================] - 59s 39ms/step - loss: 0.3721 - accuracy: 0.8521\n",
      "Epoch 30/1000\n",
      "1508/1508 [==============================] - 61s 41ms/step - loss: 0.3617 - accuracy: 0.8475\n",
      "Epoch 31/1000\n",
      "1508/1508 [==============================] - 67s 44ms/step - loss: 0.3549 - accuracy: 0.8581\n",
      "Epoch 32/1000\n",
      "1508/1508 [==============================] - 74s 49ms/step - loss: 0.3563 - accuracy: 0.8534\n",
      "Epoch 33/1000\n",
      "1508/1508 [==============================] - 72s 48ms/step - loss: 0.3448 - accuracy: 0.8634\n",
      "Epoch 34/1000\n",
      "1508/1508 [==============================] - 72s 48ms/step - loss: 0.3524 - accuracy: 0.8528\n",
      "Epoch 35/1000\n",
      "1508/1508 [==============================] - 66s 44ms/step - loss: 0.3432 - accuracy: 0.8568\n",
      "Epoch 36/1000\n",
      "1508/1508 [==============================] - 64s 42ms/step - loss: 0.3419 - accuracy: 0.8554\n",
      "Epoch 37/1000\n",
      "1508/1508 [==============================] - 63s 42ms/step - loss: 0.3266 - accuracy: 0.8700\n",
      "Epoch 38/1000\n",
      "1508/1508 [==============================] - 58s 39ms/step - loss: 0.3234 - accuracy: 0.8733\n",
      "Epoch 39/1000\n",
      "1508/1508 [==============================] - 59s 39ms/step - loss: 0.3283 - accuracy: 0.8654\n",
      "Epoch 40/1000\n",
      "1508/1508 [==============================] - 59s 39ms/step - loss: 0.3283 - accuracy: 0.8694\n",
      "Epoch 41/1000\n",
      "1508/1508 [==============================] - 58s 38ms/step - loss: 0.3305 - accuracy: 0.8654\n",
      "Epoch 42/1000\n",
      "1508/1508 [==============================] - 60s 39ms/step - loss: 0.3214 - accuracy: 0.8627\n",
      "Epoch 43/1000\n",
      "1508/1508 [==============================] - 65s 43ms/step - loss: 0.3114 - accuracy: 0.8786\n",
      "Epoch 44/1000\n",
      "1508/1508 [==============================] - 66s 43ms/step - loss: 0.3111 - accuracy: 0.8714\n",
      "Epoch 45/1000\n",
      "1508/1508 [==============================] - 59s 39ms/step - loss: 0.2989 - accuracy: 0.8866\n",
      "Epoch 46/1000\n",
      "1508/1508 [==============================] - 59s 39ms/step - loss: 0.3094 - accuracy: 0.8780\n",
      "Epoch 47/1000\n",
      "1508/1508 [==============================] - 60s 40ms/step - loss: 0.3063 - accuracy: 0.8846\n",
      "Epoch 48/1000\n",
      "1508/1508 [==============================] - 62s 41ms/step - loss: 0.2938 - accuracy: 0.8840\n",
      "Epoch 49/1000\n",
      "1508/1508 [==============================] - 61s 41ms/step - loss: 0.2981 - accuracy: 0.8866\n",
      "Epoch 50/1000\n",
      "1508/1508 [==============================] - 62s 41ms/step - loss: 0.2894 - accuracy: 0.8926\n",
      "Epoch 51/1000\n",
      "1508/1508 [==============================] - 58s 38ms/step - loss: 0.2846 - accuracy: 0.8886\n",
      "Epoch 52/1000\n",
      "1508/1508 [==============================] - 59s 39ms/step - loss: 0.2821 - accuracy: 0.8932\n",
      "Epoch 53/1000\n",
      "1508/1508 [==============================] - 60s 40ms/step - loss: 0.2788 - accuracy: 0.8919\n",
      "Epoch 54/1000\n",
      "1508/1508 [==============================] - 58s 39ms/step - loss: 0.2697 - accuracy: 0.8979\n",
      "Epoch 55/1000\n",
      "1508/1508 [==============================] - 60s 40ms/step - loss: 0.2813 - accuracy: 0.8959\n",
      "Epoch 56/1000\n",
      "1508/1508 [==============================] - 58s 39ms/step - loss: 0.2601 - accuracy: 0.8999\n",
      "Epoch 57/1000\n",
      "1508/1508 [==============================] - 57s 38ms/step - loss: 0.2622 - accuracy: 0.9085\n",
      "Epoch 58/1000\n",
      "1508/1508 [==============================] - 58s 39ms/step - loss: 0.2601 - accuracy: 0.9058\n",
      "Epoch 59/1000\n",
      "1508/1508 [==============================] - 58s 38ms/step - loss: 0.2588 - accuracy: 0.9072\n",
      "Epoch 60/1000\n",
      "1508/1508 [==============================] - 58s 39ms/step - loss: 0.2445 - accuracy: 0.9105\n",
      "Epoch 61/1000\n",
      "1508/1508 [==============================] - 58s 38ms/step - loss: 0.2493 - accuracy: 0.9098\n",
      "Epoch 62/1000\n",
      "1508/1508 [==============================] - 59s 39ms/step - loss: 0.2385 - accuracy: 0.9171\n",
      "Epoch 63/1000\n",
      "1508/1508 [==============================] - 59s 39ms/step - loss: 0.2460 - accuracy: 0.9092\n",
      "Epoch 64/1000\n",
      "1508/1508 [==============================] - 61s 40ms/step - loss: 0.2369 - accuracy: 0.9164\n",
      "Epoch 65/1000\n",
      "1508/1508 [==============================] - 59s 39ms/step - loss: 0.2319 - accuracy: 0.9125\n",
      "Epoch 66/1000\n",
      "1508/1508 [==============================] - 59s 39ms/step - loss: 0.2380 - accuracy: 0.9138\n",
      "Epoch 67/1000\n",
      "1508/1508 [==============================] - 59s 39ms/step - loss: 0.2261 - accuracy: 0.9184\n",
      "Epoch 68/1000\n",
      "1508/1508 [==============================] - 60s 40ms/step - loss: 0.2241 - accuracy: 0.9191\n",
      "Epoch 69/1000\n",
      "1508/1508 [==============================] - 58s 39ms/step - loss: 0.2305 - accuracy: 0.9204\n",
      "Epoch 70/1000\n",
      "1508/1508 [==============================] - 59s 39ms/step - loss: 0.2178 - accuracy: 0.9244\n",
      "Epoch 71/1000\n",
      "1508/1508 [==============================] - 89s 59ms/step - loss: 0.2175 - accuracy: 0.9151\n",
      "Epoch 72/1000\n",
      "1508/1508 [==============================] - 73s 49ms/step - loss: 0.2271 - accuracy: 0.9164\n",
      "Epoch 73/1000\n",
      "1508/1508 [==============================] - 58s 38ms/step - loss: 0.2163 - accuracy: 0.9198\n",
      "Epoch 74/1000\n",
      "1508/1508 [==============================] - 57s 38ms/step - loss: 0.2061 - accuracy: 0.9264\n",
      "Epoch 75/1000\n",
      "1508/1508 [==============================] - 57s 38ms/step - loss: 0.2120 - accuracy: 0.9224\n",
      "Epoch 76/1000\n",
      "1508/1508 [==============================] - 57s 38ms/step - loss: 0.1987 - accuracy: 0.9310\n",
      "Epoch 77/1000\n",
      "1508/1508 [==============================] - 57s 38ms/step - loss: 0.2262 - accuracy: 0.9277\n",
      "Epoch 78/1000\n",
      "1508/1508 [==============================] - 57s 38ms/step - loss: 0.2032 - accuracy: 0.9271\n",
      "Epoch 79/1000\n",
      "1508/1508 [==============================] - 59s 39ms/step - loss: 0.2101 - accuracy: 0.9264\n",
      "Epoch 80/1000\n",
      "1508/1508 [==============================] - 59s 39ms/step - loss: 0.1946 - accuracy: 0.9337\n",
      "Epoch 81/1000\n",
      "1508/1508 [==============================] - 57s 38ms/step - loss: 0.2015 - accuracy: 0.9290\n",
      "Epoch 82/1000\n",
      "1508/1508 [==============================] - 57s 38ms/step - loss: 0.1942 - accuracy: 0.9344\n",
      "Epoch 83/1000\n",
      "1508/1508 [==============================] - 57s 38ms/step - loss: 0.1937 - accuracy: 0.9297\n",
      "Epoch 84/1000\n",
      "1508/1508 [==============================] - 57s 38ms/step - loss: 0.1862 - accuracy: 0.9370\n",
      "Epoch 85/1000\n",
      "1508/1508 [==============================] - 58s 38ms/step - loss: 0.1802 - accuracy: 0.9377\n",
      "Epoch 86/1000\n",
      "1508/1508 [==============================] - 57s 38ms/step - loss: 0.1868 - accuracy: 0.9284\n",
      "Epoch 87/1000\n",
      "1508/1508 [==============================] - 58s 38ms/step - loss: 0.1831 - accuracy: 0.9357\n",
      "Epoch 88/1000\n",
      "1508/1508 [==============================] - 57s 38ms/step - loss: 0.1761 - accuracy: 0.9403\n",
      "Epoch 89/1000\n",
      "1508/1508 [==============================] - 57s 38ms/step - loss: 0.1879 - accuracy: 0.9390\n",
      "Epoch 90/1000\n",
      "1508/1508 [==============================] - 57s 38ms/step - loss: 0.1685 - accuracy: 0.9410\n",
      "Epoch 91/1000\n",
      "1508/1508 [==============================] - 57s 38ms/step - loss: 0.1698 - accuracy: 0.9416\n",
      "Epoch 92/1000\n",
      "1508/1508 [==============================] - 57s 38ms/step - loss: 0.1942 - accuracy: 0.9383\n",
      "Epoch 93/1000\n",
      "1508/1508 [==============================] - 58s 38ms/step - loss: 0.1859 - accuracy: 0.9350\n",
      "Epoch 94/1000\n",
      "1508/1508 [==============================] - 57s 38ms/step - loss: 0.1766 - accuracy: 0.9350\n",
      "Epoch 95/1000\n",
      "1508/1508 [==============================] - 57s 38ms/step - loss: 0.1632 - accuracy: 0.9456\n",
      "Epoch 96/1000\n",
      "1508/1508 [==============================] - 58s 38ms/step - loss: 0.1606 - accuracy: 0.9456\n",
      "Epoch 97/1000\n",
      "1508/1508 [==============================] - 57s 38ms/step - loss: 0.1707 - accuracy: 0.9450\n",
      "Epoch 98/1000\n",
      "1508/1508 [==============================] - 57s 38ms/step - loss: 0.1631 - accuracy: 0.9463\n",
      "Epoch 99/1000\n",
      "1508/1508 [==============================] - 57s 38ms/step - loss: 0.1654 - accuracy: 0.9450\n",
      "Epoch 100/1000\n",
      "1508/1508 [==============================] - 57s 38ms/step - loss: 0.1550 - accuracy: 0.9509\n",
      "Epoch 101/1000\n",
      "1508/1508 [==============================] - 58s 38ms/step - loss: 0.1590 - accuracy: 0.9463\n",
      "Epoch 102/1000\n",
      "1508/1508 [==============================] - 57s 38ms/step - loss: 0.1532 - accuracy: 0.9496\n",
      "Epoch 103/1000\n",
      "1508/1508 [==============================] - 57s 38ms/step - loss: 0.1506 - accuracy: 0.9509\n",
      "Epoch 104/1000\n",
      "1508/1508 [==============================] - 57s 38ms/step - loss: 0.1525 - accuracy: 0.9509\n",
      "Epoch 105/1000\n",
      "1508/1508 [==============================] - 57s 38ms/step - loss: 0.1482 - accuracy: 0.9516\n",
      "Epoch 106/1000\n",
      "1508/1508 [==============================] - 57s 38ms/step - loss: 0.1591 - accuracy: 0.9476\n",
      "Epoch 107/1000\n",
      "1508/1508 [==============================] - 58s 38ms/step - loss: 0.1371 - accuracy: 0.9549\n",
      "Epoch 108/1000\n",
      "1508/1508 [==============================] - 58s 38ms/step - loss: 0.1395 - accuracy: 0.9529\n",
      "Epoch 109/1000\n",
      "1508/1508 [==============================] - 57s 38ms/step - loss: 0.1469 - accuracy: 0.9516\n",
      "Epoch 110/1000\n",
      "1508/1508 [==============================] - 58s 38ms/step - loss: 0.1647 - accuracy: 0.9450\n",
      "Epoch 111/1000\n",
      "1508/1508 [==============================] - 58s 38ms/step - loss: 0.1358 - accuracy: 0.9529\n",
      "Epoch 112/1000\n",
      "1508/1508 [==============================] - 58s 38ms/step - loss: 0.1376 - accuracy: 0.9562\n",
      "Epoch 113/1000\n",
      "1508/1508 [==============================] - 58s 38ms/step - loss: 0.1376 - accuracy: 0.9562\n",
      "Epoch 114/1000\n",
      "1508/1508 [==============================] - 57s 38ms/step - loss: 0.1332 - accuracy: 0.9549\n",
      "Epoch 115/1000\n",
      "1508/1508 [==============================] - 59s 39ms/step - loss: 0.1403 - accuracy: 0.9542\n",
      "Epoch 116/1000\n",
      "1508/1508 [==============================] - 58s 38ms/step - loss: 0.1338 - accuracy: 0.9602\n",
      "Epoch 117/1000\n",
      "1508/1508 [==============================] - 57s 38ms/step - loss: 0.1378 - accuracy: 0.9556\n",
      "Epoch 118/1000\n",
      "1508/1508 [==============================] - 57s 38ms/step - loss: 0.1270 - accuracy: 0.9582\n",
      "Epoch 119/1000\n",
      "1508/1508 [==============================] - 57s 38ms/step - loss: 0.1395 - accuracy: 0.9549\n",
      "Epoch 120/1000\n",
      "1508/1508 [==============================] - 56s 37ms/step - loss: 0.1389 - accuracy: 0.9529\n",
      "Epoch 121/1000\n",
      "1508/1508 [==============================] - 57s 38ms/step - loss: 0.1435 - accuracy: 0.9489\n",
      "Epoch 122/1000\n",
      "1508/1508 [==============================] - 57s 38ms/step - loss: 0.1194 - accuracy: 0.9655\n",
      "Epoch 123/1000\n",
      "1508/1508 [==============================] - 56s 37ms/step - loss: 0.1199 - accuracy: 0.9649\n",
      "Epoch 124/1000\n",
      "1508/1508 [==============================] - 57s 38ms/step - loss: 0.1221 - accuracy: 0.9622\n",
      "Epoch 125/1000\n",
      "1508/1508 [==============================] - 56s 37ms/step - loss: 0.1241 - accuracy: 0.9642\n",
      "Epoch 126/1000\n",
      "1508/1508 [==============================] - 56s 37ms/step - loss: 0.1397 - accuracy: 0.9569\n",
      "Epoch 127/1000\n",
      "1508/1508 [==============================] - 57s 38ms/step - loss: 0.1276 - accuracy: 0.9595\n",
      "Epoch 127: early stopping\n"
     ]
    }
   ],
   "source": [
    "history3 = model3.fit(x=TrDataEmm, y=TrLabel,batch_size=1, epochs=1000,callbacks=[earlystopping],verbose=1, shuffle=True)"
   ]
  },
  {
   "cell_type": "code",
   "execution_count": 157,
   "metadata": {},
   "outputs": [
    {
     "data": {
      "text/plain": [
       "Text(0.5, 1.0, 'error vs epoch')"
      ]
     },
     "execution_count": 157,
     "metadata": {},
     "output_type": "execute_result"
    },
    {
     "data": {
      "image/png": "[encoded data removed]",
      "text/plain": [
       "<Figure size 640x480 with 1 Axes>"
      ]
     },
     "metadata": {},
     "output_type": "display_data"
    }
   ],
   "source": [
    "loss3=history3.history[\"loss\"]\n",
    "plt.plot(loss3)\n",
    "plt.xlabel(\"epochs\")\n",
    "plt.ylabel(\"error\")\n",
    "plt.title(\"error vs epoch\")"
   ]
  },
  {
   "cell_type": "code",
   "execution_count": 158,
   "metadata": {},
   "outputs": [
    {
     "name": "stdout",
     "output_type": "stream",
     "text": [
      "48/48 [==============================] - 14s 39ms/step - loss: 0.1165 - accuracy: 0.9655\n"
     ]
    },
    {
     "data": {
      "text/plain": [
       "[0.11648663878440857, 0.9655172228813171]"
      ]
     },
     "execution_count": 158,
     "metadata": {},
     "output_type": "execute_result"
    }
   ],
   "source": [
    "model3.evaluate(TrDataEmm,TrLabel)"
   ]
  },
  {
   "cell_type": "code",
   "execution_count": 159,
   "metadata": {},
   "outputs": [
    {
     "name": "stdout",
     "output_type": "stream",
     "text": [
      "12/12 [==============================] - 1s 28ms/step - loss: 0.8748 - accuracy: 0.7931\n"
     ]
    },
    {
     "data": {
      "text/plain": [
       "[0.8747566938400269, 0.7931034564971924]"
      ]
     },
     "execution_count": 159,
     "metadata": {},
     "output_type": "execute_result"
    }
   ],
   "source": [
    "model3.evaluate(TestDataEmm,TestLabel)"
   ]
  },
  {
   "cell_type": "code",
   "execution_count": 7,
   "metadata": {},
   "outputs": [],
   "source": [
    "model4 = tf.keras.models.Sequential()\n",
    "model4.add(Masking(mask_value=0, input_shape=(78, 39)))\n",
    "model4.add(LSTM(units=1))#,return_sequences=True))\n",
    "#model4.add(SimpleRNN(units=5))\n",
    "model4.add(Dense(units=5, activation='softmax'))"
   ]
  },
  {
   "cell_type": "code",
   "execution_count": 8,
   "metadata": {},
   "outputs": [],
   "source": [
    "adam_optimizer = tf.keras.optimizers.Adam(learning_rate = 0.001)\n",
    "model4.compile(loss=\"sparse_categorical_crossentropy\", optimizer = adam_optimizer, metrics=['accuracy'])\n",
    "earlystopping = tf.keras.callbacks.EarlyStopping(monitor='loss',min_delta=1e-4,patience=5,verbose=1)"
   ]
  },
  {
   "cell_type": "code",
   "execution_count": 9,
   "metadata": {},
   "outputs": [
    {
     "name": "stdout",
     "output_type": "stream",
     "text": [
      "Model: \"sequential\"\n",
      "_________________________________________________________________\n",
      " Layer (type)                Output Shape              Param #   \n",
      "=================================================================\n",
      " masking (Masking)           (None, 78, 39)            0         \n",
      "                                                                 \n",
      " lstm (LSTM)                 (None, 1)                 164       \n",
      "                                                                 \n",
      " dense (Dense)               (None, 5)                 10        \n",
      "                                                                 \n",
      "=================================================================\n",
      "Total params: 174\n",
      "Trainable params: 174\n",
      "Non-trainable params: 0\n",
      "_________________________________________________________________\n"
     ]
    }
   ],
   "source": [
    "model4.summary()"
   ]
  },
  {
   "cell_type": "code",
   "execution_count": 10,
   "metadata": {},
   "outputs": [
    {
     "name": "stdout",
     "output_type": "stream",
     "text": [
      "Epoch 1/1000\n",
      "1508/1508 [==============================] - 120s 70ms/step - loss: 1.5201 - accuracy: 0.3700\n",
      "Epoch 2/1000\n",
      "1508/1508 [==============================] - 85s 57ms/step - loss: 1.4029 - accuracy: 0.3999\n",
      "Epoch 3/1000\n",
      "1508/1508 [==============================] - 77s 51ms/step - loss: 1.3043 - accuracy: 0.4403\n",
      "Epoch 4/1000\n",
      "1508/1508 [==============================] - 85s 57ms/step - loss: 1.2147 - accuracy: 0.5027\n",
      "Epoch 5/1000\n",
      "1508/1508 [==============================] - 72s 47ms/step - loss: 1.1638 - accuracy: 0.5192\n",
      "Epoch 6/1000\n",
      "1508/1508 [==============================] - 70s 47ms/step - loss: 1.1267 - accuracy: 0.5351\n",
      "Epoch 7/1000\n",
      "1508/1508 [==============================] - 70s 47ms/step - loss: 1.0876 - accuracy: 0.5557\n",
      "Epoch 8/1000\n",
      "1508/1508 [==============================] - 69s 46ms/step - loss: 1.0597 - accuracy: 0.5723\n",
      "Epoch 9/1000\n",
      "1508/1508 [==============================] - 70s 47ms/step - loss: 1.0213 - accuracy: 0.5988\n",
      "Epoch 10/1000\n",
      "1508/1508 [==============================] - 72s 47ms/step - loss: 0.9893 - accuracy: 0.6114\n",
      "Epoch 11/1000\n",
      "1508/1508 [==============================] - 70s 47ms/step - loss: 0.9594 - accuracy: 0.6306\n",
      "Epoch 12/1000\n",
      "1508/1508 [==============================] - 70s 46ms/step - loss: 0.9394 - accuracy: 0.6280\n",
      "Epoch 13/1000\n",
      "1508/1508 [==============================] - 71s 47ms/step - loss: 0.9152 - accuracy: 0.6346\n",
      "Epoch 14/1000\n",
      "1508/1508 [==============================] - 67s 45ms/step - loss: 0.9121 - accuracy: 0.6379\n",
      "Epoch 15/1000\n",
      "1508/1508 [==============================] - 67s 44ms/step - loss: 0.8827 - accuracy: 0.6452\n",
      "Epoch 16/1000\n",
      "1508/1508 [==============================] - 68s 45ms/step - loss: 0.8673 - accuracy: 0.6452\n",
      "Epoch 17/1000\n",
      "1508/1508 [==============================] - 68s 45ms/step - loss: 0.8557 - accuracy: 0.6452\n",
      "Epoch 18/1000\n",
      "1508/1508 [==============================] - 81s 53ms/step - loss: 0.8358 - accuracy: 0.6499\n",
      "Epoch 19/1000\n",
      "1508/1508 [==============================] - 86s 57ms/step - loss: 0.8264 - accuracy: 0.6545\n",
      "Epoch 20/1000\n",
      "1508/1508 [==============================] - 81s 54ms/step - loss: 0.8198 - accuracy: 0.6499\n",
      "Epoch 21/1000\n",
      "1508/1508 [==============================] - 70s 46ms/step - loss: 0.8049 - accuracy: 0.6592\n",
      "Epoch 22/1000\n",
      "1508/1508 [==============================] - 68s 45ms/step - loss: 0.7932 - accuracy: 0.6611\n",
      "Epoch 23/1000\n",
      "1508/1508 [==============================] - 76s 51ms/step - loss: 0.7958 - accuracy: 0.6585\n",
      "Epoch 24/1000\n",
      "1508/1508 [==============================] - 93s 61ms/step - loss: 0.7844 - accuracy: 0.6552\n",
      "Epoch 25/1000\n",
      "1508/1508 [==============================] - 83s 55ms/step - loss: 0.7783 - accuracy: 0.6691\n",
      "Epoch 26/1000\n",
      "1508/1508 [==============================] - 66s 44ms/step - loss: 0.7604 - accuracy: 0.6671\n",
      "Epoch 27/1000\n",
      "1508/1508 [==============================] - 66s 44ms/step - loss: 0.7439 - accuracy: 0.6698\n",
      "Epoch 28/1000\n",
      "1508/1508 [==============================] - 66s 44ms/step - loss: 0.7411 - accuracy: 0.6744\n",
      "Epoch 29/1000\n",
      "1508/1508 [==============================] - 68s 45ms/step - loss: 0.7480 - accuracy: 0.6691\n",
      "Epoch 30/1000\n",
      "1508/1508 [==============================] - 67s 44ms/step - loss: 0.7320 - accuracy: 0.6724\n",
      "Epoch 31/1000\n",
      "1508/1508 [==============================] - 66s 44ms/step - loss: 0.7208 - accuracy: 0.6737\n",
      "Epoch 32/1000\n",
      "1508/1508 [==============================] - 67s 45ms/step - loss: 0.7204 - accuracy: 0.6718\n",
      "Epoch 33/1000\n",
      "1508/1508 [==============================] - 67s 45ms/step - loss: 0.7234 - accuracy: 0.6691\n",
      "Epoch 34/1000\n",
      "1508/1508 [==============================] - 66s 44ms/step - loss: 0.7079 - accuracy: 0.6817\n",
      "Epoch 35/1000\n",
      "1508/1508 [==============================] - 66s 44ms/step - loss: 0.7113 - accuracy: 0.6718\n",
      "Epoch 36/1000\n",
      "1508/1508 [==============================] - 67s 44ms/step - loss: 0.6995 - accuracy: 0.6777\n",
      "Epoch 37/1000\n",
      "1508/1508 [==============================] - 67s 45ms/step - loss: 0.6991 - accuracy: 0.6784\n",
      "Epoch 38/1000\n",
      "1508/1508 [==============================] - 66s 44ms/step - loss: 0.6967 - accuracy: 0.6744\n",
      "Epoch 39/1000\n",
      "1508/1508 [==============================] - 66s 44ms/step - loss: 0.6893 - accuracy: 0.6757\n",
      "Epoch 40/1000\n",
      "1508/1508 [==============================] - 71s 47ms/step - loss: 0.6890 - accuracy: 0.6810\n",
      "Epoch 41/1000\n",
      "1508/1508 [==============================] - 68s 45ms/step - loss: 0.6834 - accuracy: 0.6757\n",
      "Epoch 42/1000\n",
      "1508/1508 [==============================] - 68s 45ms/step - loss: 0.7071 - accuracy: 0.6751\n",
      "Epoch 43/1000\n",
      "1508/1508 [==============================] - 66s 44ms/step - loss: 0.6764 - accuracy: 0.6777\n",
      "Epoch 44/1000\n",
      "1508/1508 [==============================] - 68s 45ms/step - loss: 0.6702 - accuracy: 0.6810\n",
      "Epoch 45/1000\n",
      "1508/1508 [==============================] - 69s 46ms/step - loss: 0.6730 - accuracy: 0.6804\n",
      "Epoch 46/1000\n",
      "1508/1508 [==============================] - 73s 48ms/step - loss: 0.6769 - accuracy: 0.6790\n",
      "Epoch 47/1000\n",
      "1508/1508 [==============================] - 72s 47ms/step - loss: 0.6655 - accuracy: 0.6817\n",
      "Epoch 48/1000\n",
      "1508/1508 [==============================] - 71s 47ms/step - loss: 0.6675 - accuracy: 0.6844\n",
      "Epoch 49/1000\n",
      "1508/1508 [==============================] - 72s 48ms/step - loss: 0.6603 - accuracy: 0.6817\n",
      "Epoch 50/1000\n",
      "1508/1508 [==============================] - 70s 47ms/step - loss: 0.6654 - accuracy: 0.6751\n",
      "Epoch 51/1000\n",
      "1508/1508 [==============================] - 71s 47ms/step - loss: 0.6614 - accuracy: 0.6857\n",
      "Epoch 52/1000\n",
      "1508/1508 [==============================] - 67s 45ms/step - loss: 0.6627 - accuracy: 0.6790\n",
      "Epoch 53/1000\n",
      "1508/1508 [==============================] - 66s 44ms/step - loss: 0.6547 - accuracy: 0.6883\n",
      "Epoch 54/1000\n",
      "1508/1508 [==============================] - 67s 44ms/step - loss: 0.6621 - accuracy: 0.6757\n",
      "Epoch 55/1000\n",
      "1508/1508 [==============================] - 68s 45ms/step - loss: 0.6447 - accuracy: 0.6877\n",
      "Epoch 56/1000\n",
      "1508/1508 [==============================] - 67s 44ms/step - loss: 0.6517 - accuracy: 0.6830\n",
      "Epoch 57/1000\n",
      "1508/1508 [==============================] - 66s 44ms/step - loss: 0.6475 - accuracy: 0.6850\n",
      "Epoch 58/1000\n",
      "1508/1508 [==============================] - 67s 45ms/step - loss: 0.6495 - accuracy: 0.6850\n",
      "Epoch 59/1000\n",
      "1508/1508 [==============================] - 67s 44ms/step - loss: 0.6460 - accuracy: 0.6850\n",
      "Epoch 60/1000\n",
      "1508/1508 [==============================] - 66s 44ms/step - loss: 0.6435 - accuracy: 0.6844\n",
      "Epoch 61/1000\n",
      "1508/1508 [==============================] - 67s 44ms/step - loss: 0.6469 - accuracy: 0.6844\n",
      "Epoch 62/1000\n",
      "1508/1508 [==============================] - 66s 44ms/step - loss: 0.6428 - accuracy: 0.6817\n",
      "Epoch 63/1000\n",
      "1508/1508 [==============================] - 66s 44ms/step - loss: 0.6408 - accuracy: 0.6923\n",
      "Epoch 64/1000\n",
      "1508/1508 [==============================] - 67s 45ms/step - loss: 0.6444 - accuracy: 0.6877\n",
      "Epoch 65/1000\n",
      "1508/1508 [==============================] - 66s 44ms/step - loss: 0.6403 - accuracy: 0.6863\n",
      "Epoch 66/1000\n",
      "1508/1508 [==============================] - 67s 44ms/step - loss: 0.6322 - accuracy: 0.6844\n",
      "Epoch 67/1000\n",
      "1508/1508 [==============================] - 67s 44ms/step - loss: 0.6367 - accuracy: 0.6916\n",
      "Epoch 68/1000\n",
      "1508/1508 [==============================] - 67s 44ms/step - loss: 0.6306 - accuracy: 0.6963\n",
      "Epoch 69/1000\n",
      "1508/1508 [==============================] - 68s 45ms/step - loss: 0.6280 - accuracy: 0.6890\n",
      "Epoch 70/1000\n",
      "1508/1508 [==============================] - 66s 44ms/step - loss: 0.6363 - accuracy: 0.6916\n",
      "Epoch 71/1000\n",
      "1508/1508 [==============================] - 66s 44ms/step - loss: 0.6330 - accuracy: 0.6870\n",
      "Epoch 72/1000\n",
      "1508/1508 [==============================] - 67s 44ms/step - loss: 0.6325 - accuracy: 0.6903\n",
      "Epoch 73/1000\n",
      "1508/1508 [==============================] - 67s 44ms/step - loss: 0.6267 - accuracy: 0.6844\n",
      "Epoch 74/1000\n",
      "1508/1508 [==============================] - 66s 44ms/step - loss: 0.6268 - accuracy: 0.6923\n",
      "Epoch 75/1000\n",
      "1508/1508 [==============================] - 68s 45ms/step - loss: 0.6279 - accuracy: 0.6890\n",
      "Epoch 76/1000\n",
      "1508/1508 [==============================] - 66s 44ms/step - loss: 0.6278 - accuracy: 0.6936\n",
      "Epoch 77/1000\n",
      "1508/1508 [==============================] - 67s 45ms/step - loss: 0.6319 - accuracy: 0.6903\n",
      "Epoch 78/1000\n",
      "1508/1508 [==============================] - 66s 44ms/step - loss: 0.6184 - accuracy: 0.6897\n",
      "Epoch 79/1000\n",
      "1508/1508 [==============================] - 68s 45ms/step - loss: 0.6279 - accuracy: 0.6903\n",
      "Epoch 80/1000\n",
      "1508/1508 [==============================] - 66s 44ms/step - loss: 0.6261 - accuracy: 0.6863\n",
      "Epoch 81/1000\n",
      "1508/1508 [==============================] - 66s 44ms/step - loss: 0.6222 - accuracy: 0.6883\n",
      "Epoch 82/1000\n",
      "1508/1508 [==============================] - 68s 45ms/step - loss: 0.6178 - accuracy: 0.6956\n",
      "Epoch 83/1000\n",
      "1508/1508 [==============================] - 67s 45ms/step - loss: 0.6266 - accuracy: 0.6923\n",
      "Epoch 84/1000\n",
      "1508/1508 [==============================] - 66s 44ms/step - loss: 0.6188 - accuracy: 0.6930\n",
      "Epoch 85/1000\n",
      "1508/1508 [==============================] - 66s 44ms/step - loss: 0.6197 - accuracy: 0.6969\n",
      "Epoch 86/1000\n",
      "1508/1508 [==============================] - 68s 45ms/step - loss: 0.6218 - accuracy: 0.6916\n",
      "Epoch 87/1000\n",
      "1508/1508 [==============================] - 66s 44ms/step - loss: 0.6233 - accuracy: 0.6969\n",
      "Epoch 87: early stopping\n"
     ]
    }
   ],
   "source": [
    "history4 = model4.fit(x=TrDataEmm, y=TrLabel,batch_size=1, epochs=1000,callbacks=[earlystopping],verbose=1, shuffle=True)"
   ]
  },
  {
   "cell_type": "code",
   "execution_count": 11,
   "metadata": {},
   "outputs": [
    {
     "data": {
      "text/plain": [
       "Text(0.5, 1.0, 'error vs epoch')"
      ]
     },
     "execution_count": 11,
     "metadata": {},
     "output_type": "execute_result"
    },
    {
     "data": {
      "image/png": "[encoded data removed]",
      "text/plain": [
       "<Figure size 640x480 with 1 Axes>"
      ]
     },
     "metadata": {},
     "output_type": "display_data"
    }
   ],
   "source": [
    "loss4=history4.history[\"loss\"]\n",
    "plt.plot(loss4)\n",
    "plt.xlabel(\"epochs\")\n",
    "plt.ylabel(\"error\")\n",
    "plt.title(\"error vs epoch\")"
   ]
  },
  {
   "cell_type": "code",
   "execution_count": 12,
   "metadata": {},
   "outputs": [
    {
     "name": "stdout",
     "output_type": "stream",
     "text": [
      "48/48 [==============================] - 9s 29ms/step - loss: 0.6353 - accuracy: 0.6916\n"
     ]
    },
    {
     "data": {
      "text/plain": [
       "[0.635263979434967, 0.691644549369812]"
      ]
     },
     "execution_count": 12,
     "metadata": {},
     "output_type": "execute_result"
    }
   ],
   "source": [
    "model4.evaluate(TrDataEmm,TrLabel)"
   ]
  },
  {
   "cell_type": "code",
   "execution_count": 13,
   "metadata": {},
   "outputs": [
    {
     "name": "stdout",
     "output_type": "stream",
     "text": [
      "12/12 [==============================] - 0s 25ms/step - loss: 0.8148 - accuracy: 0.6446\n"
     ]
    },
    {
     "data": {
      "text/plain": [
       "[0.8147943019866943, 0.6445623636245728]"
      ]
     },
     "execution_count": 13,
     "metadata": {},
     "output_type": "execute_result"
    }
   ],
   "source": [
    "model4.evaluate(TestDataEmm,TestLabel)"
   ]
  },
  {
   "cell_type": "code",
   "execution_count": 14,
   "metadata": {},
   "outputs": [],
   "source": [
    "model5 = tf.keras.models.Sequential()\n",
    "model5.add(Masking(mask_value=0, input_shape=(78, 39)))\n",
    "model5.add(LSTM(units=5,return_sequences=True))\n",
    "model5.add(LSTM(units=5))\n",
    "model5.add(Dense(units=5, activation='softmax'))"
   ]
  },
  {
   "cell_type": "code",
   "execution_count": 15,
   "metadata": {},
   "outputs": [],
   "source": [
    "adam_optimizer = tf.keras.optimizers.Adam(learning_rate = 0.001)\n",
    "model5.compile(loss=\"sparse_categorical_crossentropy\", optimizer = adam_optimizer, metrics=['accuracy'])\n",
    "earlystopping = tf.keras.callbacks.EarlyStopping(monitor='loss',min_delta=1e-4,patience=5,verbose=1)"
   ]
  },
  {
   "cell_type": "code",
   "execution_count": 16,
   "metadata": {},
   "outputs": [
    {
     "name": "stdout",
     "output_type": "stream",
     "text": [
      "Model: \"sequential_1\"\n",
      "_________________________________________________________________\n",
      " Layer (type)                Output Shape              Param #   \n",
      "=================================================================\n",
      " masking_1 (Masking)         (None, 78, 39)            0         \n",
      "                                                                 \n",
      " lstm_1 (LSTM)               (None, 78, 5)             900       \n",
      "                                                                 \n",
      " lstm_2 (LSTM)               (None, 5)                 220       \n",
      "                                                                 \n",
      " dense_1 (Dense)             (None, 5)                 30        \n",
      "                                                                 \n",
      "=================================================================\n",
      "Total params: 1,150\n",
      "Trainable params: 1,150\n",
      "Non-trainable params: 0\n",
      "_________________________________________________________________\n"
     ]
    }
   ],
   "source": [
    "model5.summary()"
   ]
  },
  {
   "cell_type": "code",
   "execution_count": 17,
   "metadata": {},
   "outputs": [
    {
     "name": "stdout",
     "output_type": "stream",
     "text": [
      "Epoch 1/1000\n",
      "1508/1508 [==============================] - 184s 106ms/step - loss: 1.2592 - accuracy: 0.5033\n",
      "Epoch 2/1000\n",
      "1508/1508 [==============================] - 166s 110ms/step - loss: 0.8171 - accuracy: 0.6718\n",
      "Epoch 3/1000\n",
      "1508/1508 [==============================] - 183s 122ms/step - loss: 0.7175 - accuracy: 0.7135\n",
      "Epoch 4/1000\n",
      "1508/1508 [==============================] - 181s 120ms/step - loss: 0.6495 - accuracy: 0.7500\n",
      "Epoch 5/1000\n",
      "1508/1508 [==============================] - 168s 112ms/step - loss: 0.5911 - accuracy: 0.7745\n",
      "Epoch 6/1000\n",
      "1508/1508 [==============================] - 158s 105ms/step - loss: 0.5573 - accuracy: 0.7851\n",
      "Epoch 7/1000\n",
      "1508/1508 [==============================] - 161s 107ms/step - loss: 0.5130 - accuracy: 0.8090\n",
      "Epoch 8/1000\n",
      "1508/1508 [==============================] - 174s 116ms/step - loss: 0.5025 - accuracy: 0.8130\n",
      "Epoch 9/1000\n",
      "1508/1508 [==============================] - 165s 109ms/step - loss: 0.4959 - accuracy: 0.8137\n",
      "Epoch 10/1000\n",
      "1508/1508 [==============================] - 162s 108ms/step - loss: 0.4675 - accuracy: 0.8236\n",
      "Epoch 11/1000\n",
      "1508/1508 [==============================] - 164s 109ms/step - loss: 0.4350 - accuracy: 0.8382\n",
      "Epoch 12/1000\n",
      "1508/1508 [==============================] - 168s 112ms/step - loss: 0.4182 - accuracy: 0.8395\n",
      "Epoch 13/1000\n",
      "1508/1508 [==============================] - 160s 106ms/step - loss: 0.4089 - accuracy: 0.8495\n",
      "Epoch 14/1000\n",
      "1508/1508 [==============================] - 162s 108ms/step - loss: 0.3861 - accuracy: 0.8588\n",
      "Epoch 15/1000\n",
      "1508/1508 [==============================] - 170s 113ms/step - loss: 0.3655 - accuracy: 0.8700\n",
      "Epoch 16/1000\n",
      "1508/1508 [==============================] - 163s 108ms/step - loss: 0.3516 - accuracy: 0.8747\n",
      "Epoch 17/1000\n",
      "1508/1508 [==============================] - 164s 109ms/step - loss: 0.3471 - accuracy: 0.8727\n",
      "Epoch 18/1000\n",
      "1508/1508 [==============================] - 167s 111ms/step - loss: 0.3327 - accuracy: 0.8800\n",
      "Epoch 19/1000\n",
      "1508/1508 [==============================] - 168s 111ms/step - loss: 0.3131 - accuracy: 0.8879\n",
      "Epoch 20/1000\n",
      "1508/1508 [==============================] - 174s 116ms/step - loss: 0.3031 - accuracy: 0.8972\n",
      "Epoch 21/1000\n",
      "1508/1508 [==============================] - 169s 112ms/step - loss: 0.3034 - accuracy: 0.8899\n",
      "Epoch 22/1000\n",
      "1508/1508 [==============================] - 173s 115ms/step - loss: 0.2921 - accuracy: 0.8972\n",
      "Epoch 23/1000\n",
      "1508/1508 [==============================] - 163s 108ms/step - loss: 0.2833 - accuracy: 0.8926\n",
      "Epoch 24/1000\n",
      "1508/1508 [==============================] - 161s 107ms/step - loss: 0.2733 - accuracy: 0.9052\n",
      "Epoch 25/1000\n",
      "1508/1508 [==============================] - 170s 113ms/step - loss: 0.2790 - accuracy: 0.9038\n",
      "Epoch 26/1000\n",
      "1508/1508 [==============================] - 164s 109ms/step - loss: 0.2757 - accuracy: 0.9111\n",
      "Epoch 27/1000\n",
      "1508/1508 [==============================] - 170s 113ms/step - loss: 0.2548 - accuracy: 0.9151\n",
      "Epoch 28/1000\n",
      "1508/1508 [==============================] - 170s 113ms/step - loss: 0.2445 - accuracy: 0.9224\n",
      "Epoch 29/1000\n",
      "1508/1508 [==============================] - 176s 116ms/step - loss: 0.2545 - accuracy: 0.9125\n",
      "Epoch 30/1000\n",
      "1508/1508 [==============================] - 181s 120ms/step - loss: 0.2526 - accuracy: 0.9164\n",
      "Epoch 31/1000\n",
      "1508/1508 [==============================] - 190s 126ms/step - loss: 0.2223 - accuracy: 0.9251\n",
      "Epoch 32/1000\n",
      "1508/1508 [==============================] - 177s 118ms/step - loss: 0.2427 - accuracy: 0.9184\n",
      "Epoch 33/1000\n",
      "1508/1508 [==============================] - 166s 110ms/step - loss: 0.2195 - accuracy: 0.9224\n",
      "Epoch 34/1000\n",
      "1508/1508 [==============================] - 167s 111ms/step - loss: 0.2287 - accuracy: 0.9271\n",
      "Epoch 35/1000\n",
      "1508/1508 [==============================] - 176s 116ms/step - loss: 0.2148 - accuracy: 0.9297\n",
      "Epoch 36/1000\n",
      "1508/1508 [==============================] - 166s 110ms/step - loss: 0.2143 - accuracy: 0.9297\n",
      "Epoch 37/1000\n",
      "1508/1508 [==============================] - 167s 111ms/step - loss: 0.2139 - accuracy: 0.9324\n",
      "Epoch 38/1000\n",
      "1508/1508 [==============================] - 177s 117ms/step - loss: 0.2016 - accuracy: 0.9370\n",
      "Epoch 39/1000\n",
      "1508/1508 [==============================] - 165s 109ms/step - loss: 0.2082 - accuracy: 0.9297\n",
      "Epoch 40/1000\n",
      "1508/1508 [==============================] - 122s 81ms/step - loss: 0.1979 - accuracy: 0.9344\n",
      "Epoch 41/1000\n",
      "1508/1508 [==============================] - 118s 78ms/step - loss: 0.1813 - accuracy: 0.9423\n",
      "Epoch 42/1000\n",
      "1508/1508 [==============================] - 117s 78ms/step - loss: 0.1914 - accuracy: 0.9390\n",
      "Epoch 43/1000\n",
      "1508/1508 [==============================] - 116s 77ms/step - loss: 0.1982 - accuracy: 0.9363\n",
      "Epoch 44/1000\n",
      "1508/1508 [==============================] - 117s 77ms/step - loss: 0.1763 - accuracy: 0.9436\n",
      "Epoch 45/1000\n",
      "1508/1508 [==============================] - 117s 77ms/step - loss: 0.1748 - accuracy: 0.9436\n",
      "Epoch 46/1000\n",
      "1508/1508 [==============================] - 116s 77ms/step - loss: 0.1650 - accuracy: 0.9469\n",
      "Epoch 47/1000\n",
      "1508/1508 [==============================] - 115s 77ms/step - loss: 0.1636 - accuracy: 0.9483\n",
      "Epoch 48/1000\n",
      "1508/1508 [==============================] - 116s 77ms/step - loss: 0.1744 - accuracy: 0.9430\n",
      "Epoch 49/1000\n",
      "1508/1508 [==============================] - 116s 77ms/step - loss: 0.1732 - accuracy: 0.9469\n",
      "Epoch 50/1000\n",
      "1508/1508 [==============================] - 116s 77ms/step - loss: 0.1490 - accuracy: 0.9523\n",
      "Epoch 51/1000\n",
      "1508/1508 [==============================] - 117s 77ms/step - loss: 0.1646 - accuracy: 0.9383\n",
      "Epoch 52/1000\n",
      "1508/1508 [==============================] - 115s 77ms/step - loss: 0.1483 - accuracy: 0.9569\n",
      "Epoch 53/1000\n",
      "1508/1508 [==============================] - 116s 77ms/step - loss: 0.1494 - accuracy: 0.9489\n",
      "Epoch 54/1000\n",
      "1508/1508 [==============================] - 116s 77ms/step - loss: 0.1566 - accuracy: 0.9503\n",
      "Epoch 55/1000\n",
      "1508/1508 [==============================] - 117s 78ms/step - loss: 0.1495 - accuracy: 0.9542\n",
      "Epoch 56/1000\n",
      "1508/1508 [==============================] - 117s 77ms/step - loss: 0.1407 - accuracy: 0.9536\n",
      "Epoch 57/1000\n",
      "1508/1508 [==============================] - 116s 77ms/step - loss: 0.1274 - accuracy: 0.9589\n",
      "Epoch 58/1000\n",
      "1508/1508 [==============================] - 116s 77ms/step - loss: 0.1511 - accuracy: 0.9509\n",
      "Epoch 59/1000\n",
      "1508/1508 [==============================] - 116s 77ms/step - loss: 0.1446 - accuracy: 0.9556\n",
      "Epoch 60/1000\n",
      "1508/1508 [==============================] - 118s 78ms/step - loss: 0.1428 - accuracy: 0.9536\n",
      "Epoch 61/1000\n",
      "1508/1508 [==============================] - 117s 77ms/step - loss: 0.1252 - accuracy: 0.9635\n",
      "Epoch 62/1000\n",
      "1508/1508 [==============================] - 127s 84ms/step - loss: 0.1490 - accuracy: 0.9536\n",
      "Epoch 63/1000\n",
      "1508/1508 [==============================] - 144s 95ms/step - loss: 0.1383 - accuracy: 0.9516\n",
      "Epoch 64/1000\n",
      "1508/1508 [==============================] - 122s 81ms/step - loss: 0.1217 - accuracy: 0.9629\n",
      "Epoch 65/1000\n",
      "1508/1508 [==============================] - 125s 83ms/step - loss: 0.1210 - accuracy: 0.9615\n",
      "Epoch 66/1000\n",
      "1508/1508 [==============================] - 126s 83ms/step - loss: 0.1616 - accuracy: 0.9529\n",
      "Epoch 67/1000\n",
      "1508/1508 [==============================] - 118s 79ms/step - loss: 0.1347 - accuracy: 0.9602\n",
      "Epoch 68/1000\n",
      "1508/1508 [==============================] - 117s 77ms/step - loss: 0.1095 - accuracy: 0.9682\n",
      "Epoch 69/1000\n",
      "1508/1508 [==============================] - 119s 79ms/step - loss: 0.1465 - accuracy: 0.9556\n",
      "Epoch 70/1000\n",
      "1508/1508 [==============================] - 117s 77ms/step - loss: 0.1234 - accuracy: 0.9655\n",
      "Epoch 71/1000\n",
      "1508/1508 [==============================] - 119s 79ms/step - loss: 0.1231 - accuracy: 0.9595\n",
      "Epoch 72/1000\n",
      "1508/1508 [==============================] - 117s 77ms/step - loss: 0.1004 - accuracy: 0.9695\n",
      "Epoch 73/1000\n",
      "1508/1508 [==============================] - 120s 79ms/step - loss: 0.0997 - accuracy: 0.9735\n",
      "Epoch 74/1000\n",
      "1508/1508 [==============================] - 118s 78ms/step - loss: 0.1521 - accuracy: 0.9516\n",
      "Epoch 75/1000\n",
      "1508/1508 [==============================] - 117s 77ms/step - loss: 0.0978 - accuracy: 0.9715\n",
      "Epoch 76/1000\n",
      "1508/1508 [==============================] - 117s 77ms/step - loss: 0.1093 - accuracy: 0.9702\n",
      "Epoch 77/1000\n",
      "1508/1508 [==============================] - 119s 79ms/step - loss: 0.1009 - accuracy: 0.9682\n",
      "Epoch 78/1000\n",
      "1508/1508 [==============================] - 117s 78ms/step - loss: 0.1198 - accuracy: 0.9655\n",
      "Epoch 79/1000\n",
      "1508/1508 [==============================] - 119s 79ms/step - loss: 0.1119 - accuracy: 0.9655\n",
      "Epoch 80/1000\n",
      "1508/1508 [==============================] - 117s 78ms/step - loss: 0.1481 - accuracy: 0.9569\n",
      "Epoch 80: early stopping\n"
     ]
    }
   ],
   "source": [
    "history5 = model5.fit(x=TrDataEmm, y=TrLabel,batch_size=1, epochs=1000,callbacks=[earlystopping],verbose=1, shuffle=True)"
   ]
  },
  {
   "cell_type": "code",
   "execution_count": 18,
   "metadata": {},
   "outputs": [
    {
     "data": {
      "text/plain": [
       "Text(0.5, 1.0, 'error vs epoch')"
      ]
     },
     "execution_count": 18,
     "metadata": {},
     "output_type": "execute_result"
    },
    {
     "data": {
      "image/png": "[encoded data removed]",
      "text/plain": [
       "<Figure size 640x480 with 1 Axes>"
      ]
     },
     "metadata": {},
     "output_type": "display_data"
    }
   ],
   "source": [
    "loss5=history5.history[\"loss\"]\n",
    "plt.plot(loss5)\n",
    "plt.xlabel(\"epochs\")\n",
    "plt.ylabel(\"error\")\n",
    "plt.title(\"error vs epoch\")"
   ]
  },
  {
   "cell_type": "code",
   "execution_count": 19,
   "metadata": {},
   "outputs": [
    {
     "name": "stdout",
     "output_type": "stream",
     "text": [
      "48/48 [==============================] - 16s 59ms/step - loss: 0.1646 - accuracy: 0.9503\n"
     ]
    },
    {
     "data": {
      "text/plain": [
       "[0.16461189091205597, 0.9502652287483215]"
      ]
     },
     "execution_count": 19,
     "metadata": {},
     "output_type": "execute_result"
    }
   ],
   "source": [
    "model5.evaluate(TrDataEmm,TrLabel)"
   ]
  },
  {
   "cell_type": "code",
   "execution_count": 20,
   "metadata": {},
   "outputs": [
    {
     "name": "stdout",
     "output_type": "stream",
     "text": [
      "12/12 [==============================] - 1s 48ms/step - loss: 0.8224 - accuracy: 0.8117\n"
     ]
    },
    {
     "data": {
      "text/plain": [
       "[0.8223778009414673, 0.8116710782051086]"
      ]
     },
     "execution_count": 20,
     "metadata": {},
     "output_type": "execute_result"
    }
   ],
   "source": [
    "model5.evaluate(TestDataEmm,TestLabel)"
   ]
  },
  {
   "cell_type": "code",
   "execution_count": 21,
   "metadata": {},
   "outputs": [
    {
     "name": "stdout",
     "output_type": "stream",
     "text": [
      "48/48 [==============================] - 25s 47ms/step\n"
     ]
    },
    {
     "data": {
      "text/plain": [
       "<tf.Tensor: shape=(5, 5), dtype=int32, numpy=\n",
       "array([[261,   2,   1,  22,   4],\n",
       "       [  3, 173,   1,   2,  18],\n",
       "       [  2,   1, 499,   0,   0],\n",
       "       [  7,   0,   2, 196,   7],\n",
       "       [  1,   1,   0,   1, 304]])>"
      ]
     },
     "execution_count": 21,
     "metadata": {},
     "output_type": "execute_result"
    }
   ],
   "source": [
    "Pred1=model5.predict(x=TrDataEmm)\n",
    "Pred1 = tf.argmax(Pred1, axis=1)\n",
    "TrConf1=tf.math.confusion_matrix(labels=TrLabel,predictions=Pred1)\n",
    "TrConf1"
   ]
  },
  {
   "cell_type": "code",
   "execution_count": 22,
   "metadata": {},
   "outputs": [
    {
     "name": "stdout",
     "output_type": "stream",
     "text": [
      "12/12 [==============================] - 1s 56ms/step\n"
     ]
    },
    {
     "data": {
      "text/plain": [
       "<tf.Tensor: shape=(5, 5), dtype=int32, numpy=\n",
       "array([[ 50,   0,   3,  15,   4],\n",
       "       [  2,  38,   3,   0,   6],\n",
       "       [  1,   0, 123,   2,   0],\n",
       "       [ 13,   0,   1,  33,   6],\n",
       "       [  4,   1,   2,   8,  62]])>"
      ]
     },
     "execution_count": 22,
     "metadata": {},
     "output_type": "execute_result"
    }
   ],
   "source": [
    "Pred1=model5.predict(x=TestDataEmm)\n",
    "Pred1 = tf.argmax(Pred1, axis=1)\n",
    "TestConf1=tf.math.confusion_matrix(labels=TestLabel,predictions=Pred1)\n",
    "TestConf1"
   ]
  }
 ],
 "metadata": {
  "kernelspec": {
   "display_name": "Python 3",
   "language": "python",
   "name": "python3"
  },
  "language_info": {
   "codemirror_mode": {
    "name": "ipython",
    "version": 3
   },
   "file_extension": ".py",
   "mimetype": "text/x-python",
   "name": "python",
   "nbconvert_exporter": "python",
   "pygments_lexer": "ipython3",
   "version": "3.10.7"
  },
  "orig_nbformat": 4
 },
 "nbformat": 4,
 "nbformat_minor": 2
}
